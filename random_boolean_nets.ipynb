{
 "cells": [
  {
   "cell_type": "markdown",
   "metadata": {
    "cellView": "form",
    "id": "bDxuMCLDIvfs"
   },
   "source": [
    "# import & utils\n"
   ]
  },
  {
   "cell_type": "code",
   "execution_count": 1,
   "metadata": {},
   "outputs": [],
   "source": [
    "import matplotlib.pylab as pl\n",
    "import matplotlib.pyplot as plt\n",
    "import PIL.Image\n",
    "import PIL.ImageFont\n",
    "import PIL.ImageDraw\n",
    "from tqdm.auto import trange\n",
    "import jraph\n",
    "import numpy as np\n",
    "import os\n",
    "\n",
    "pl.style.use(\"dark_background\")\n",
    "\n",
    "\n",
    "def np2pil(a):\n",
    "    a = np.asarray(a)\n",
    "    if a.dtype.kind == \"f\":\n",
    "        a = np.uint8(a.clip(0, 1) * 255)\n",
    "\n",
    "    return PIL.Image.fromarray(a)\n",
    "\n",
    "\n",
    "def imshow(a):\n",
    "    display(np2pil(a))\n",
    "\n",
    "\n",
    "def zoom(a, k=2):\n",
    "    return np.repeat(np.repeat(a, k, 1), k, 0)\n",
    "\n",
    "\n",
    "def tile2d(a, w=None):\n",
    "    a = np.asarray(a)\n",
    "    if w is None:\n",
    "        w = int(np.ceil(np.sqrt(len(a))))\n",
    "    th, tw = a.shape[1:3]\n",
    "    pad = (w - len(a)) % w\n",
    "    a = np.pad(a, [(0, pad)] + [(0, 0)] * (a.ndim - 1), \"constant\")\n",
    "    h = len(a) // w\n",
    "    a = a.reshape([h, w] + list(a.shape[1:]))\n",
    "    a = np.rollaxis(a, 2, 1).reshape([th * h, tw * w] + list(a.shape[4:]))\n",
    "    return a"
   ]
  },
  {
   "cell_type": "code",
   "execution_count": 2,
   "metadata": {
    "id": "pfh9vZTrJDLt"
   },
   "outputs": [],
   "source": [
    "import jax\n",
    "import jax.numpy as jp\n",
    "import optax\n",
    "from flax import nnx"
   ]
  },
  {
   "cell_type": "code",
   "execution_count": 3,
   "metadata": {},
   "outputs": [],
   "source": [
    "%load_ext autoreload\n",
    "%autoreload 2"
   ]
  },
  {
   "cell_type": "code",
   "execution_count": 4,
   "metadata": {},
   "outputs": [],
   "source": [
    "os.environ[\"XLA_PYTHON_CLIENT_PREALLOCATE\"] = \"false\"\n"
   ]
  },
  {
   "cell_type": "code",
   "execution_count": 5,
   "metadata": {},
   "outputs": [],
   "source": [
    "import logging\n",
    "\n",
    "# Configure logging\n",
    "log = logging.getLogger(__name__)"
   ]
  },
  {
   "cell_type": "markdown",
   "metadata": {},
   "source": [
    "# Params"
   ]
  },
  {
   "cell_type": "code",
   "execution_count": 6,
   "metadata": {},
   "outputs": [],
   "source": [
    "from boolean_nca_cc import generate_layer_sizes"
   ]
  },
  {
   "cell_type": "code",
   "execution_count": 7,
   "metadata": {},
   "outputs": [],
   "source": [
    "input_n, output_n = 3, 3\n",
    "arity = 2\n",
    "layer_sizes = generate_layer_sizes(input_n, output_n, arity, layer_n=3)\n",
    "loss_type = \"l4\""
   ]
  },
  {
   "cell_type": "code",
   "execution_count": 8,
   "metadata": {},
   "outputs": [
    {
     "data": {
      "text/plain": [
       "[(3, 1), (12, 2), (12, 2), (6, 1), (3, 1)]"
      ]
     },
     "execution_count": 8,
     "metadata": {},
     "output_type": "execute_result"
    }
   ],
   "source": [
    "layer_sizes"
   ]
  },
  {
   "cell_type": "markdown",
   "metadata": {},
   "source": [
    "# Training\n"
   ]
  },
  {
   "cell_type": "code",
   "execution_count": 9,
   "metadata": {},
   "outputs": [],
   "source": [
    "from boolean_nca_cc.circuits.model import gen_circuit\n",
    "from boolean_nca_cc.circuits.train import TrainState, train_step\n",
    "from boolean_nca_cc.circuits.viz import evaluate_and_visualize\n",
    "from boolean_nca_cc.circuits.tasks import get_task_data"
   ]
  },
  {
   "cell_type": "code",
   "execution_count": 10,
   "metadata": {
    "colab": {
     "base_uri": "https://localhost:8080/",
     "height": 81
    },
    "executionInfo": {
     "elapsed": 598,
     "status": "ok",
     "timestamp": 1746110816074,
     "user": {
      "displayName": "Alexander Mordvintsev",
      "userId": "01126991178202355563"
     },
     "user_tz": -120
    },
    "id": "p4w7oBT7OMV_",
    "outputId": "67cd74c7-a396-4731-86bd-293f31309f12"
   },
   "outputs": [
    {
     "data": {
      "image/jpeg": "[encoded data removed]",
      "image/png": "[encoded data removed]",
      "text/plain": [
       "<PIL.Image.Image image mode=L size=64x24>"
      ]
     },
     "metadata": {},
     "output_type": "display_data"
    },
    {
     "data": {
      "image/jpeg": "[encoded data removed]",
      "image/png": "[encoded data removed]",
      "text/plain": [
       "<PIL.Image.Image image mode=L size=64x24>"
      ]
     },
     "metadata": {},
     "output_type": "display_data"
    }
   ],
   "source": [
    "key = jax.random.PRNGKey(42)\n",
    "wires, logitsbp = gen_circuit(key, layer_sizes, arity=arity)\n",
    "\n",
    "opt = optax.adamw(1, 0.8, 0.8, weight_decay=1e-1)\n",
    "state = TrainState(params=logitsbp, opt_state=opt.init(logitsbp))\n",
    "\n",
    "\n",
    "case_n = 1 << input_n\n",
    "x = jp.arange(case_n)\n",
    "x, y0 = get_task_data(\"reverse\", case_n, input_bits=input_n, output_bits=output_n)\n",
    "\n",
    "zoom_factor = 8\n",
    "imshow(zoom(x.T, zoom_factor))\n",
    "imshow(zoom(y0.T, zoom_factor))"
   ]
  },
  {
   "cell_type": "markdown",
   "metadata": {},
   "source": [
    "## BackProp"
   ]
  },
  {
   "cell_type": "code",
   "execution_count": 11,
   "metadata": {},
   "outputs": [],
   "source": [
    "loss_log_bp = []\n",
    "aux_log_bp = []"
   ]
  },
  {
   "cell_type": "code",
   "execution_count": 12,
   "metadata": {
    "colab": {
     "base_uri": "https://localhost:8080/"
    },
    "executionInfo": {
     "elapsed": 1758,
     "status": "ok",
     "timestamp": 1746110848578,
     "user": {
      "displayName": "Alexander Mordvintsev",
      "userId": "01126991178202355563"
     },
     "user_tz": -120
    },
    "id": "5I0LI_0uRqTz",
    "outputId": "7b60e572-ea44-434a-9953-358c8eb84037"
   },
   "outputs": [
    {
     "data": {
      "application/vnd.jupyter.widget-view+json": {
       "model_id": "bc78e14b2a85465a828e61f682517a5b",
       "version_major": 2,
       "version_minor": 0
      },
      "text/plain": [
       "  0%|          | 0/100 [00:00<?, ?it/s]"
      ]
     },
     "metadata": {},
     "output_type": "display_data"
    }
   ],
   "source": [
    "pbar = trange(100)\n",
    "for i in pbar:\n",
    "    loss, aux, state = train_step(state, opt, wires, x, y0, loss_type, do_train=True)\n",
    "    loss_log_bp.append(loss)\n",
    "    aux_log_bp.append(aux)\n",
    "    pbar.set_postfix_str(\n",
    "        f\"loss: {loss.item():.3E}, accuracy: {aux['accuracy'].item():.2%}\"\n",
    "        + (\n",
    "            f\" | hard_loss: {aux['hard_loss'].item():.3E}, hard_accuracy: {aux['hard_accuracy'].item():.2%}\"\n",
    "            if \"hard_loss\" in aux\n",
    "            else \"\"\n",
    "        )\n",
    "    )"
   ]
  },
  {
   "cell_type": "code",
   "execution_count": 13,
   "metadata": {},
   "outputs": [
    {
     "data": {
      "image/png": "[encoded data removed]",
      "text/plain": [
       "<Figure size 1000x500 with 2 Axes>"
      ]
     },
     "metadata": {},
     "output_type": "display_data"
    }
   ],
   "source": [
    "def plot_losses(\n",
    "    loss_log, aux_log, figax=None, title=None, plot_accuracy=False, plot_hard=True\n",
    "):\n",
    "    if figax is None:\n",
    "        fig, ax = plt.subplots()\n",
    "    else:\n",
    "        fig, ax = figax\n",
    "    v = len(loss_log) // 10\n",
    "\n",
    "    if not plot_accuracy:\n",
    "        smooth_losses = np.convolve(loss_log, np.ones(v) / v, mode=\"valid\")\n",
    "        hard_losses = [aux[\"hard_loss\"] for aux in aux_log]\n",
    "        smooth_hard_losses = np.convolve(hard_losses, np.ones(v) / v, mode=\"valid\")\n",
    "        ax.plot(smooth_losses, label=\"soft\")\n",
    "        if plot_hard:\n",
    "            ax.plot(jp.maximum(smooth_hard_losses, 1e-5), label=\"hard\")\n",
    "    else:\n",
    "        accs = [aux[\"accuracy\"] for aux in aux_log]\n",
    "        smooth_accs = np.convolve(accs, np.ones(v) / v, mode=\"valid\")\n",
    "        ax.plot(smooth_accs, label=\"soft\")\n",
    "        hard_accs = [aux[\"hard_accuracy\"] for aux in aux_log]\n",
    "        smooth_hard_accs = np.convolve(hard_accs, np.ones(v) / v, mode=\"valid\")\n",
    "        if plot_hard:\n",
    "            ax.plot(smooth_hard_accs, label=\"hard\")\n",
    "\n",
    "    ax.legend()\n",
    "    ax.set_yscale(\"log\")\n",
    "\n",
    "    if title is not None:\n",
    "        ax.set_title(title)\n",
    "\n",
    "\n",
    "fig, axs = plt.subplots(\n",
    "    1, 2, figsize=(10, 5), sharey=False, sharex=True, constrained_layout=True\n",
    ")\n",
    "plot_losses(loss_log_bp, aux_log_bp, (fig, axs[0]), title=\"BP INNER LOSS\")\n",
    "plot_losses(\n",
    "    loss_log_bp,\n",
    "    aux_log_bp,\n",
    "    (fig, axs[1]),\n",
    "    plot_accuracy=True,\n",
    "    title=\"BP INNER ACCURACY\",\n",
    ")"
   ]
  },
  {
   "cell_type": "code",
   "execution_count": 14,
   "metadata": {},
   "outputs": [],
   "source": [
    "bp_results = {\n",
    "    \"losses\": loss_log_bp,\n",
    "    \"aux_log\": aux_log_bp,\n",
    "}"
   ]
  },
  {
   "cell_type": "code",
   "execution_count": 15,
   "metadata": {
    "colab": {
     "base_uri": "https://localhost:8080/",
     "height": 430
    },
    "executionInfo": {
     "elapsed": 157,
     "status": "ok",
     "timestamp": 1746110850745,
     "user": {
      "displayName": "Alexander Mordvintsev",
      "userId": "01126991178202355563"
     },
     "user_tz": -120
    },
    "id": "XIn3JywITllR",
    "outputId": "67b56ec9-c715-4261-b6f7-910666410130"
   },
   "outputs": [
    {
     "data": {
      "image/png": "[encoded data removed]",
      "text/plain": [
       "<Figure size 2000x600 with 3 Axes>"
      ]
     },
     "metadata": {},
     "output_type": "display_data"
    }
   ],
   "source": [
    "metrics = evaluate_and_visualize(state.params, wires, x, y0, hard=True)"
   ]
  },
  {
   "cell_type": "code",
   "execution_count": 16,
   "metadata": {},
   "outputs": [
    {
     "ename": "KeyboardInterrupt",
     "evalue": "",
     "output_type": "error",
     "traceback": [
      "\u001b[31m---------------------------------------------------------------------------\u001b[39m",
      "\u001b[31mKeyboardInterrupt\u001b[39m                         Traceback (most recent call last)",
      "\u001b[36mCell\u001b[39m\u001b[36m \u001b[39m\u001b[32mIn[16]\u001b[39m\u001b[32m, line 1\u001b[39m\n\u001b[32m----> \u001b[39m\u001b[32m1\u001b[39m \u001b[38;5;28;01mraise\u001b[39;00m \u001b[38;5;167;01mKeyboardInterrupt\u001b[39;00m()\n",
      "\u001b[31mKeyboardInterrupt\u001b[39m: "
     ]
    }
   ],
   "source": [
    "raise KeyboardInterrupt()"
   ]
  },
  {
   "cell_type": "markdown",
   "metadata": {},
   "source": [
    "## Models"
   ]
  },
  {
   "cell_type": "code",
   "execution_count": 17,
   "metadata": {},
   "outputs": [],
   "source": [
    "from boolean_nca_cc.utils import (\n",
    "    build_graph,\n",
    "    extract_logits_from_graph,\n",
    ")\n",
    "from boolean_nca_cc.training.utils import check_gradients\n",
    "from boolean_nca_cc.circuits.train import loss_f_l4\n",
    "from boolean_nca_cc.training import train_model, get_loss_and_update_graph\n",
    "\n",
    "from boolean_nca_cc.models import (\n",
    "    CircuitGNN,\n",
    "    CircuitSelfAttention,\n",
    ")"
   ]
  },
  {
   "cell_type": "code",
   "execution_count": 18,
   "metadata": {},
   "outputs": [],
   "source": [
    "hidden_dim = 32\n",
    "hidden_features = 32\n",
    "n_message_steps = 1\n",
    "key = jax.random.PRNGKey(42)\n",
    "wires, logits = gen_circuit(key, layer_sizes, arity=arity)\n",
    "loss, aux = loss_f_l4(logits, wires, x, y0)\n",
    "\n",
    "graph = build_graph(\n",
    "    logits, wires, input_n, arity, hidden_dim=hidden_dim, loss_value=loss\n",
    ")"
   ]
  },
  {
   "cell_type": "code",
   "execution_count": 19,
   "metadata": {},
   "outputs": [],
   "source": [
    "from functools import partial\n",
    "\n",
    "y_target = y0\n",
    "random_loss_step = False\n",
    "\n",
    "\n",
    "# Define loss function\n",
    "\n",
    "\n",
    "@partial(nnx.jit, static_argnames=(\"n_message_steps\",))\n",
    "def loss_fn(model, graph, logits, wires, loss_key, n_message_steps=n_message_steps):\n",
    "    # Store original shapes for reconstruction\n",
    "    logits_original_shapes = [logit.shape for logit in logits]\n",
    "\n",
    "    # Determine which scan function to use based on model type\n",
    "    if isinstance(model, CircuitGNN):\n",
    "        from boolean_nca_cc.models.gnn import run_gnn_scan_with_loss\n",
    "\n",
    "        scan_fn = run_gnn_scan_with_loss\n",
    "    elif isinstance(model, CircuitSelfAttention):\n",
    "        from boolean_nca_cc.models.self_attention import (\n",
    "            run_self_attention_scan_with_loss,\n",
    "        )\n",
    "\n",
    "        scan_fn = run_self_attention_scan_with_loss\n",
    "    else:\n",
    "        raise ValueError(f\"Unknown model type: {type(model)}\")\n",
    "\n",
    "    # Run scan for all steps, computing loss and updating graph at each step\n",
    "    final_graph, step_outputs = scan_fn(\n",
    "        model=model,\n",
    "        graph=graph,\n",
    "        num_steps=n_message_steps,\n",
    "        logits_original_shapes=logits_original_shapes,\n",
    "        wires=wires,\n",
    "        x_data=x,\n",
    "        y_data=y_target,\n",
    "        loss_type=loss_type,\n",
    "        layer_sizes=layer_sizes,\n",
    "    )\n",
    "\n",
    "    # Choose which step to use for loss computation\n",
    "    if random_loss_step:\n",
    "        loss_step = jax.random.randint(loss_key, (1,), 0, n_message_steps)[0]\n",
    "\n",
    "    else:\n",
    "        loss_step = -1\n",
    "\n",
    "    final_graph, final_loss, final_logits, final_aux = jax.tree.map(\n",
    "        lambda x: x[loss_step], step_outputs\n",
    "    )\n",
    "    return final_loss, (final_aux, final_graph, final_logits, loss_step)\n",
    "\n",
    "\n",
    "@partial(nnx.jit, static_argnames=(\"n_message_steps\",))\n",
    "def loss_fn_no_scan(\n",
    "    model, graph, logits, wires, loss_key, n_message_steps=n_message_steps\n",
    "):\n",
    "    # Choose which step to use for loss computation\n",
    "    if random_loss_step:\n",
    "        n_loss_step = jax.random.randint(loss_key, (1,), 0, n_message_steps)[0]\n",
    "\n",
    "    else:\n",
    "        n_loss_step = n_message_steps - 1\n",
    "\n",
    "    all_results = []\n",
    "\n",
    "    for i in range(n_message_steps):\n",
    "        graph = model(graph)\n",
    "        graph, loss, logits, aux = get_loss_and_update_graph(\n",
    "            graph=graph,\n",
    "            logits_original_shapes=[l.shape for l in logits],\n",
    "            wires=wires,\n",
    "            x_data=x,\n",
    "            y_data=y_target,\n",
    "            loss_type=loss_type,\n",
    "            layer_sizes=layer_sizes,\n",
    "        )\n",
    "        all_results.append((loss, aux, graph, logits))\n",
    "\n",
    "    # Stack all results using jax.tree_map\n",
    "    stacked_results = jax.tree.map(lambda *args: jp.stack(args), *all_results)\n",
    "\n",
    "    # Index at n_loss_step\n",
    "    final_loss, final_aux, final_graph, final_logits = jax.tree.map(\n",
    "        lambda x: x[n_loss_step], stacked_results\n",
    "    )\n",
    "\n",
    "    return final_loss, (final_aux, final_graph, final_logits, n_loss_step)"
   ]
  },
  {
   "cell_type": "markdown",
   "metadata": {},
   "source": [
    "### Schedulers"
   ]
  },
  {
   "cell_type": "markdown",
   "metadata": {},
   "source": [
    "#### lr"
   ]
  },
  {
   "cell_type": "code",
   "execution_count": 27,
   "metadata": {},
   "outputs": [],
   "source": [
    "from boolean_nca_cc.training.schedulers import get_learning_rate_schedule"
   ]
  },
  {
   "cell_type": "code",
   "execution_count": null,
   "metadata": {},
   "outputs": [],
   "source": [
    "lr_scheduler = get_learning_rate_schedule(\n",
    "    lr_scheduler=\"linear_warmup\",\n",
    "    lr_scheduler_params={\n",
    "        \"exponent\": 20,\n",
    "        \"warmup_steps_factor\": 50,\n",
    "        \"alpha\": 1e-2,\n",
    "        \"lr_warmup_start\": 1e-6,\n",
    "    },\n",
    "    learning_rate=4e-4,\n",
    "    epochs=2**16,\n",
    ")\n"
   ]
  },
  {
   "cell_type": "code",
   "execution_count": null,
   "metadata": {},
   "outputs": [],
   "source": [
    "steps = list(range(1, 2**16, 2**8))\n",
    "plt.plot(steps, [lr_scheduler(i) for i in steps])\n",
    "plt.yscale(\"log\")"
   ]
  },
  {
   "cell_type": "markdown",
   "metadata": {},
   "source": [
    "#### loss step"
   ]
  },
  {
   "cell_type": "code",
   "execution_count": null,
   "metadata": {},
   "outputs": [],
   "source": [
    "from boolean_nca_cc.training.schedulers import get_step_beta"
   ]
  },
  {
   "cell_type": "code",
   "execution_count": null,
   "metadata": {},
   "outputs": [],
   "source": [
    "n_steps = 50\n",
    "loss_key = jax.random.PRNGKey(42)\n",
    "batch_keys = jax.random.split(loss_key, 1024)\n",
    "random_steps = jax.vmap(\n",
    "    lambda key: jax.vmap(get_step_beta, in_axes=(0, None, 0, None, None))(\n",
    "        jax.random.split(key, 100), n_steps, jp.linspace(0.0, 1.0, 100), 10, 0.1\n",
    "    )\n",
    ")(batch_keys)\n"
   ]
  },
  {
   "cell_type": "code",
   "execution_count": null,
   "metadata": {},
   "outputs": [],
   "source": [
    "plt.plot(random_steps.mean(0))\n",
    "plt.yticks(np.arange(0, 50, 2))\n",
    "plt.xlabel(\"Training progress\")\n",
    "plt.ylabel(\"Average step trained\")\n",
    "plt.title(\"Average step over 1024 batches\")\n",
    "plt.show()"
   ]
  },
  {
   "cell_type": "code",
   "execution_count": null,
   "metadata": {},
   "outputs": [],
   "source": [
    "fi, axs = plt.subplots(1, 5, figsize=(10, 2), sharey=False, sharex=True)\n",
    "for progress, ax in zip(np.linspace(0.0, 100, len(axs), dtype=int), axs):\n",
    "    ax.hist(random_steps[:, progress], bins=np.arange(0, 50, 1))\n",
    "    ax.set_title(f\"Progress: {progress}\")\n",
    "    ax.set_xlabel(\"# Steps\")\n",
    "\n",
    "plt.show()\n"
   ]
  },
  {
   "cell_type": "markdown",
   "metadata": {},
   "source": [
    "#### pool reset"
   ]
  },
  {
   "cell_type": "code",
   "execution_count": 20,
   "metadata": {},
   "outputs": [],
   "source": [
    "from boolean_nca_cc.training.pool.pool_evolution_simulator import (\n",
    "    simulate_pool_reset_evolution,\n",
    "    plot_pool_evolution,\n",
    ")\n"
   ]
  },
  {
   "cell_type": "code",
   "execution_count": 50,
   "metadata": {},
   "outputs": [
    {
     "name": "stdout",
     "output_type": "stream",
     "text": [
      "Starting pool evolution simulation for 131072 epochs (jump size: 32)\n"
     ]
    },
    {
     "data": {
      "application/vnd.jupyter.widget-view+json": {
       "model_id": "54cd3e1c03f1466baf666df5948931bd",
       "version_major": 2,
       "version_minor": 0
      },
      "text/plain": [
       "Simulating pool evolution:   0%|          | 0/4097 [00:00<?, ?it/s]"
      ]
     },
     "metadata": {},
     "output_type": "display_data"
    }
   ],
   "source": [
    "pool_size = 8192\n",
    "epochs = 2**17\n",
    "n_message_steps = 5\n",
    "reset_pool_fraction = 0.1\n",
    "reset_pool_interval = 128\n",
    "use_beta_loss_step = False\n",
    "reset_interval_schedule = None\n",
    "seed = 42\n",
    "meta_batch_size = 256\n",
    "\n",
    "pool_results = simulate_pool_reset_evolution(\n",
    "    pool_size=pool_size,\n",
    "    epochs=epochs,\n",
    "    n_message_steps=n_message_steps,\n",
    "    reset_pool_fraction=reset_pool_fraction,\n",
    "    reset_pool_interval=reset_pool_interval,\n",
    "    reset_strategy=\"steps_biased\",  # Focus on steps_biased (mock run)\n",
    "    use_beta_loss_step=use_beta_loss_step,\n",
    "    reset_interval_schedule=reset_interval_schedule,\n",
    "    seed=seed,\n",
    "    meta_batch_size=meta_batch_size,\n",
    "    jump_size=32,\n",
    ")"
   ]
  },
  {
   "cell_type": "code",
   "execution_count": 51,
   "metadata": {},
   "outputs": [
    {
     "data": {
      "image/png": "[encoded data removed]",
      "text/plain": [
       "<Figure size 1500x1000 with 4 Axes>"
      ]
     },
     "metadata": {},
     "output_type": "display_data"
    }
   ],
   "source": [
    "plot_pool_evolution(pool_results)"
   ]
  },
  {
   "cell_type": "markdown",
   "metadata": {},
   "source": []
  },
  {
   "cell_type": "markdown",
   "metadata": {},
   "source": [
    "### GNN"
   ]
  },
  {
   "cell_type": "code",
   "execution_count": 24,
   "metadata": {},
   "outputs": [],
   "source": [
    "gnn = CircuitGNN(\n",
    "    hidden_dim=hidden_dim,\n",
    "    message_passing=True,\n",
    "    node_mlp_features=[hidden_features, hidden_features],\n",
    "    edge_mlp_features=[hidden_features, hidden_features],\n",
    "    rngs=nnx.Rngs(params=jax.random.PRNGKey(42)),\n",
    "    use_attention=False,\n",
    "    arity=arity,\n",
    ")\n",
    "\n",
    "opt_fn = optax.adamw(1e-4, weight_decay=1e-5)\n",
    "opt = nnx.Optimizer(gnn, opt_fn)"
   ]
  },
  {
   "cell_type": "code",
   "execution_count": null,
   "metadata": {},
   "outputs": [],
   "source": [
    "from functools import partial\n",
    "\n",
    "loss_fn_partial = partial(\n",
    "    loss_fn,\n",
    "    graph=graph,\n",
    "    logits=logits,\n",
    "    wires=wires,\n",
    "    loss_key=jax.random.PRNGKey(42),\n",
    "    n_message_steps=1,\n",
    ")\n",
    "\n",
    "(loss, aux), grads = nnx.value_and_grad(loss_fn_partial, has_aux=True)(gnn)\n",
    "opt.update(grads)\n",
    "(loss, aux), grads = nnx.value_and_grad(loss_fn_partial, has_aux=True)(gnn)\n",
    "assert any(jax.tree.leaves(jax.tree.map(lambda x: x.any(), grads))), \"No grads\""
   ]
  },
  {
   "cell_type": "markdown",
   "metadata": {},
   "source": [
    "#### Training"
   ]
  },
  {
   "cell_type": "code",
   "execution_count": null,
   "metadata": {},
   "outputs": [],
   "source": [
    "gnn_results = train_model(\n",
    "    key=0,\n",
    "    init_model=gnn,\n",
    "    # CIRCUIT PARAMS\n",
    "    layer_sizes=layer_sizes,\n",
    "    x_data=x,\n",
    "    y_data=y0,\n",
    "    arity=arity,\n",
    "    # TRAINING PARAMS\n",
    "    epochs=2**13,\n",
    "    n_message_steps=1,\n",
    "    meta_batch_size=256,\n",
    "    # WIRING MODE PARAMS\n",
    "    wiring_mode=\"random\",\n",
    "    wiring_fixed_key=jax.random.PRNGKey(42),\n",
    "    # LOSS PARAMS\n",
    "    loss_type=\"l4\",\n",
    "    # OPTIMIZER PARAMS\n",
    "    learning_rate=1e-3,\n",
    "    weight_decay=1e-5,\n",
    "    # LEARNING RATE SCHEDULER\n",
    "    lr_scheduler=\"linear_warmup\",\n",
    "    # Model Params\n",
    "    hidden_dim=hidden_dim,\n",
    "    # POOL PARAMS : current mean avg of 100 steps before reset\n",
    "    pool_size=1024,\n",
    "    reset_pool_fraction=0.075,\n",
    "    reset_pool_interval=2**5,\n",
    "    # metric used to reset pool instances in priority : loss / \"age\" / combined\n",
    "    reset_strategy=\"combined\",\n",
    ")"
   ]
  },
  {
   "cell_type": "code",
   "execution_count": 40,
   "metadata": {},
   "outputs": [],
   "source": [
    "try:\n",
    "    gnn_results[\"model\"] = nnx.state(gnn_results[\"model\"])\n",
    "    gnn_results[\"optimizer\"] = nnx.state(gnn_results[\"optimizer\"])\n",
    "except ValueError:\n",
    "    print(\"already converted\")\n",
    "    pass"
   ]
  },
  {
   "cell_type": "code",
   "execution_count": 41,
   "metadata": {},
   "outputs": [],
   "source": [
    "# save gnn_results\n",
    "import pickle\n",
    "\n",
    "with open(\"gnn_results.pkl\", \"wb\") as f:\n",
    "    pickle.dump(gnn_results, f)"
   ]
  },
  {
   "cell_type": "code",
   "execution_count": 42,
   "metadata": {},
   "outputs": [],
   "source": [
    "# recreate aux in old format\n",
    "aux_log = [\n",
    "    {\n",
    "        \"accuracy\": accuracies,\n",
    "        \"hard_accuracy\": hard_acc,\n",
    "        \"hard_loss\": hard_loss,\n",
    "    }\n",
    "    for accuracies, hard_acc, hard_loss in zip(\n",
    "        gnn_results[\"accuracies\"],\n",
    "        gnn_results[\"hard_accuracies\"],\n",
    "        gnn_results[\"hard_losses\"],\n",
    "    )\n",
    "]"
   ]
  },
  {
   "cell_type": "code",
   "execution_count": null,
   "metadata": {},
   "outputs": [],
   "source": [
    "fig, axs = plt.subplots(\n",
    "    1, 2, figsize=(10, 5), sharey=False, sharex=True, constrained_layout=True\n",
    ")\n",
    "plot_losses(\n",
    "    gnn_results[\"losses\"], aux_log, (fig, axs[0]), title=\"META LOSS\", plot_hard=True\n",
    ")\n",
    "plot_losses(\n",
    "    gnn_results[\"losses\"],\n",
    "    aux_log,\n",
    "    (fig, axs[1]),\n",
    "    plot_accuracy=True,\n",
    "    title=\"META ACCURACY\",\n",
    "    plot_hard=True,\n",
    ")"
   ]
  },
  {
   "cell_type": "code",
   "execution_count": null,
   "metadata": {},
   "outputs": [],
   "source": [
    "v = len(gnn_results[\"reset_steps\"]) // 10\n",
    "plt.plot(np.convolve(gnn_results[\"reset_steps\"], np.ones(v) / v, mode=\"valid\"))"
   ]
  },
  {
   "cell_type": "code",
   "execution_count": 46,
   "metadata": {},
   "outputs": [],
   "source": [
    "# Get the inner loop losses\n",
    "from boolean_nca_cc.training.evaluation import evaluate_model_stepwise"
   ]
  },
  {
   "cell_type": "code",
   "execution_count": null,
   "metadata": {},
   "outputs": [],
   "source": [
    "key = jax.random.PRNGKey(42)\n",
    "wires_gnn, logits_gnn = gen_circuit(key, layer_sizes, arity=arity)\n",
    "print(wires_gnn)\n",
    "graph = build_graph(\n",
    "    logits_gnn, wires_gnn, input_n, arity, hidden_dim=hidden_dim, loss_value=loss\n",
    ")"
   ]
  },
  {
   "cell_type": "code",
   "execution_count": 48,
   "metadata": {},
   "outputs": [],
   "source": [
    "for i in range(20):\n",
    "    graph = gnn(graph)"
   ]
  },
  {
   "cell_type": "code",
   "execution_count": 49,
   "metadata": {},
   "outputs": [],
   "source": [
    "final_logits = extract_logits_from_graph(graph, [l.shape for l in logits_gnn])"
   ]
  },
  {
   "cell_type": "code",
   "execution_count": null,
   "metadata": {},
   "outputs": [],
   "source": [
    "metrics = evaluate_and_visualize(final_logits, wires, x, y0, hard=True)"
   ]
  },
  {
   "cell_type": "code",
   "execution_count": null,
   "metadata": {},
   "outputs": [],
   "source": [
    "step_metrics = evaluate_model_stepwise(\n",
    "    gnn,\n",
    "    wires_gnn,\n",
    "    logits_gnn,\n",
    "    x,\n",
    "    y0,\n",
    "    input_n,\n",
    "    n_message_steps=100,\n",
    "    arity=arity,\n",
    "    hidden_dim=hidden_dim,\n",
    "    loss_type=\"l4\",\n",
    ")"
   ]
  },
  {
   "cell_type": "code",
   "execution_count": 52,
   "metadata": {},
   "outputs": [],
   "source": [
    "aux_log_stepwise = [\n",
    "    {\"accuracy\": acc, \"hard_accuracy\": hard_acc, \"hard_loss\": hard_loss}\n",
    "    for acc, hard_acc, hard_loss in zip(\n",
    "        step_metrics[\"soft_accuracy\"],\n",
    "        step_metrics[\"hard_accuracy\"],\n",
    "        step_metrics[\"hard_loss\"],\n",
    "    )\n",
    "]"
   ]
  },
  {
   "cell_type": "code",
   "execution_count": null,
   "metadata": {},
   "outputs": [],
   "source": [
    "step_metrics.keys()"
   ]
  },
  {
   "cell_type": "code",
   "execution_count": 54,
   "metadata": {},
   "outputs": [],
   "source": [
    "gnn_log_results = {\n",
    "    \"losses\": step_metrics[\"soft_loss\"],\n",
    "    \"aux_log\": aux_log_stepwise,\n",
    "}"
   ]
  },
  {
   "cell_type": "code",
   "execution_count": null,
   "metadata": {},
   "outputs": [],
   "source": [
    "# Compare GNN and BP\n",
    "\n",
    "fig, axs = plt.subplots(\n",
    "    2, 2, figsize=(16, 10), sharey=\"row\", sharex=\"col\", constrained_layout=True\n",
    ")\n",
    "\n",
    "for method, axs_method, results in zip(\n",
    "    [\"GNN\", \"BP\"], axs.T, [gnn_log_results, bp_results]\n",
    "):\n",
    "    for metric, ax in zip([\"loss\", \"accuracy\"], axs_method):\n",
    "        if metric == \"loss\":\n",
    "            plot_losses(\n",
    "                results[\"losses\"],\n",
    "                results[\"aux_log\"],\n",
    "                (fig, ax),\n",
    "                title=f\"{method} INNER LOSS\",\n",
    "            )\n",
    "        else:\n",
    "            plot_losses(\n",
    "                results[\"losses\"],\n",
    "                results[\"aux_log\"],\n",
    "                (fig, ax),\n",
    "                title=f\"{method} INNER ACCURACY\",\n",
    "                plot_accuracy=True,\n",
    "            )"
   ]
  },
  {
   "cell_type": "markdown",
   "metadata": {},
   "source": [
    "#### Pool"
   ]
  },
  {
   "cell_type": "code",
   "execution_count": 46,
   "metadata": {},
   "outputs": [],
   "source": [
    "from boolean_nca_cc.training.pool import GraphPool, initialize_graph_pool"
   ]
  },
  {
   "cell_type": "code",
   "execution_count": 47,
   "metadata": {},
   "outputs": [],
   "source": [
    "init_pool = initialize_graph_pool(\n",
    "    jax.random.PRNGKey(42),\n",
    "    pool_size=1024,\n",
    "    # circuit params\n",
    "    layer_sizes=layer_sizes,\n",
    "    arity=arity,\n",
    "    input_n=input_n,\n",
    "    # graph params\n",
    "    hidden_dim=hidden_dim,\n",
    "    loss_value=loss,\n",
    "    wiring_mode=\"fixed\",\n",
    ")"
   ]
  },
  {
   "cell_type": "code",
   "execution_count": null,
   "metadata": {},
   "outputs": [],
   "source": [
    "init_pool.wires[0][3], init_pool.wires[0][2]"
   ]
  },
  {
   "cell_type": "code",
   "execution_count": 25,
   "metadata": {},
   "outputs": [],
   "source": [
    "idxs, graphs, batch_of_wires, batch_of_logits = init_pool.sample(\n",
    "    jax.random.PRNGKey(42), 16\n",
    ")"
   ]
  },
  {
   "cell_type": "code",
   "execution_count": null,
   "metadata": {},
   "outputs": [],
   "source": [
    "graphs.nodes[\"logits\"].sum(), idxs"
   ]
  },
  {
   "cell_type": "code",
   "execution_count": 29,
   "metadata": {},
   "outputs": [],
   "source": [
    "losses, updated_graphs = nnx.vmap(loss_fn, in_axes=(None, 0, 0))(\n",
    "    gnn, graphs, batch_of_wires\n",
    ")"
   ]
  },
  {
   "cell_type": "code",
   "execution_count": null,
   "metadata": {},
   "outputs": [],
   "source": [
    "updated_graphs.nodes[\"logits\"].sum(), idxs"
   ]
  },
  {
   "cell_type": "code",
   "execution_count": 31,
   "metadata": {},
   "outputs": [],
   "source": [
    "updated_batch_of_logits = jax.vmap(extract_logits_from_graph, in_axes=(0, None))(\n",
    "    updated_graphs, [l.shape[1:] for l in batch_of_logits]\n",
    ")"
   ]
  },
  {
   "cell_type": "code",
   "execution_count": 32,
   "metadata": {},
   "outputs": [],
   "source": [
    "new_pool = init_pool.update(idxs, updated_graphs)"
   ]
  },
  {
   "cell_type": "code",
   "execution_count": 33,
   "metadata": {},
   "outputs": [],
   "source": [
    "new_idxs, new_graphs, new_batch_of_wires, new_batch_of_logits = new_pool.sample(\n",
    "    jax.random.PRNGKey(42), 16\n",
    ")"
   ]
  },
  {
   "cell_type": "code",
   "execution_count": null,
   "metadata": {},
   "outputs": [],
   "source": [
    "(\n",
    "    new_graphs.nodes[\"logits\"].sum(),\n",
    "    sum(jax.tree.map(lambda x: x.sum(), new_batch_of_logits)),\n",
    ")\n",
    "\n",
    "# Update cprrect"
   ]
  },
  {
   "cell_type": "code",
   "execution_count": 36,
   "metadata": {},
   "outputs": [],
   "source": [
    "new_pool = initialize_graph_pool(\n",
    "    jax.random.PRNGKey(42),\n",
    "    pool_size=1024,\n",
    "    # circuit params\n",
    "    layer_sizes=layer_sizes,\n",
    "    arity=arity,\n",
    "    input_n=input_n,\n",
    "    # graph params\n",
    "    hidden_dim=hidden_dim,\n",
    "    loss_value=loss,\n",
    ")"
   ]
  },
  {
   "cell_type": "code",
   "execution_count": null,
   "metadata": {},
   "outputs": [],
   "source": [
    "init_pool.reset_fraction(\n",
    "    jax.random.PRNGKey(43), 0.1, new_pool.graphs, new_pool.wires, new_pool.logits\n",
    ")"
   ]
  },
  {
   "cell_type": "code",
   "execution_count": null,
   "metadata": {},
   "outputs": [],
   "source": []
  },
  {
   "cell_type": "code",
   "execution_count": null,
   "metadata": {},
   "outputs": [],
   "source": [
    "first_graph = jax.tree.map(lambda x: x[0], new_graphs)\n",
    "first_graph.nodes[\"logits\"].shape\n",
    "\n",
    "first_logits = extract_logits_from_graph(\n",
    "    first_graph, [l.shape[1:] for l in batch_of_logits]\n",
    ")\n",
    "sum(jax.tree.map(lambda x: x.sum(), first_logits)), first_graph.nodes[\"logits\"].sum()"
   ]
  },
  {
   "cell_type": "code",
   "execution_count": null,
   "metadata": {},
   "outputs": [],
   "source": []
  },
  {
   "cell_type": "markdown",
   "metadata": {},
   "source": [
    "### Attention"
   ]
  },
  {
   "cell_type": "code",
   "execution_count": 81,
   "metadata": {},
   "outputs": [],
   "source": [
    "attn = CircuitSelfAttention(\n",
    "    hidden_dim=hidden_dim,\n",
    "    num_heads=8,\n",
    "    num_layers=1,\n",
    "    arity=arity,\n",
    "    dropout_rate=0.1,\n",
    "    rngs=nnx.Rngs(params=jax.random.PRNGKey(42)),\n",
    "    n_node=int(graph.n_node[0]),\n",
    "    zero_init=False,\n",
    "    re_zero_update=True,\n",
    ")\n",
    "\n",
    "opt_fn = optax.adamw(1e-3, weight_decay=1e-5)\n",
    "opt = nnx.Optimizer(attn, opt_fn)"
   ]
  },
  {
   "cell_type": "code",
   "execution_count": null,
   "metadata": {},
   "outputs": [],
   "source": [
    "num_steps = 2\n",
    "\n",
    "(loss, (final_aux, final_graph, final_logits, n_loss_step)), grads = nnx.value_and_grad(\n",
    "    loss_fn_no_scan, has_aux=True\n",
    ")(\n",
    "    attn,\n",
    "    graph,\n",
    "    logitsbp,\n",
    "    wires,\n",
    "    loss_key=jax.random.PRNGKey(42),\n",
    "    n_message_steps=num_steps,\n",
    ")\n",
    "\n",
    "opt.update(grads)\n",
    "check_gradients(grads)"
   ]
  },
  {
   "cell_type": "code",
   "execution_count": null,
   "metadata": {},
   "outputs": [],
   "source": [
    "attn_results = train_model(\n",
    "    key=0,\n",
    "    init_model=attn,\n",
    "    # CIRCUIT PARAMS\n",
    "    layer_sizes=layer_sizes,\n",
    "    x_data=x,\n",
    "    y_data=y0,\n",
    "    arity=arity,\n",
    "    # TRAINING PARAMS\n",
    "    epochs=2**13,\n",
    "    n_message_steps=10,\n",
    "    meta_batch_size=256,\n",
    "    # WIRING MODE PARAMS\n",
    "    wiring_mode=\"random\",\n",
    "    wiring_fixed_key=jax.random.PRNGKey(42),\n",
    "    # LOSS PARAMS\n",
    "    loss_type=\"l4\",\n",
    "    # OPTIMIZER PARAMS\n",
    "    learning_rate=4e-4,\n",
    "    weight_decay=1e-5,\n",
    "    # LEARNING RATE SCHEDULER\n",
    "    lr_scheduler=\"linear_warmup\",\n",
    "    # Model Params\n",
    "    hidden_dim=hidden_dim,\n",
    "    # POOL PARAMS : current mean avg of 100 steps before reset\n",
    "    pool_size=1024,\n",
    "    reset_pool_fraction=0.5,\n",
    "    reset_pool_interval=32,\n",
    "    # metric used to reset pool instances in priority : loss / \"age\" / combined\n",
    "    reset_strategy=\"combined\",\n",
    "    # Periodic evaluation\n",
    "    periodic_eval_enabled=False,\n",
    "    periodic_eval_interval=512,\n",
    "    periodic_eval_batch_size=64,\n",
    ")"
   ]
  },
  {
   "cell_type": "code",
   "execution_count": 84,
   "metadata": {},
   "outputs": [],
   "source": [
    "# recreate aux in old format\n",
    "attn_results_log = [\n",
    "    {\n",
    "        \"accuracy\": accuracies,\n",
    "        \"hard_accuracy\": hard_acc,\n",
    "        \"hard_loss\": hard_loss,\n",
    "    }\n",
    "    for accuracies, hard_acc, hard_loss in zip(\n",
    "        attn_results[\"accuracies\"],\n",
    "        attn_results[\"hard_accuracies\"],\n",
    "        attn_results[\"hard_losses\"],\n",
    "    )\n",
    "]"
   ]
  },
  {
   "cell_type": "code",
   "execution_count": null,
   "metadata": {},
   "outputs": [],
   "source": [
    "fig, axs = plt.subplots(\n",
    "    1, 2, figsize=(10, 5), sharey=False, sharex=True, constrained_layout=True\n",
    ")\n",
    "plot_losses(\n",
    "    attn_results[\"losses\"],\n",
    "    attn_results_log,\n",
    "    (fig, axs[0]),\n",
    "    title=\"META LOSS\",\n",
    "    plot_hard=True,\n",
    ")\n",
    "plot_losses(\n",
    "    attn_results[\"losses\"],\n",
    "    attn_results_log,\n",
    "    (fig, axs[1]),\n",
    "    plot_accuracy=True,\n",
    "    title=\"META ACCURACY\",\n",
    "    plot_hard=True,\n",
    ")"
   ]
  },
  {
   "cell_type": "code",
   "execution_count": 86,
   "metadata": {},
   "outputs": [],
   "source": [
    "# Get the inner loop losses\n",
    "from boolean_nca_cc.training.evaluation import evaluate_model_stepwise"
   ]
  },
  {
   "cell_type": "code",
   "execution_count": null,
   "metadata": {},
   "outputs": [],
   "source": [
    "key = jax.random.PRNGKey(42)\n",
    "wires_gnn, logits_gnn = gen_circuit(key, layer_sizes, arity=arity)\n",
    "step_metrics_attn = evaluate_model_stepwise(\n",
    "    attn,\n",
    "    wires_gnn,\n",
    "    logits_gnn,\n",
    "    x,\n",
    "    y0,\n",
    "    input_n,\n",
    "    n_message_steps=100,\n",
    "    arity=arity,\n",
    "    hidden_dim=hidden_dim,\n",
    "    loss_type=\"l4\",\n",
    "    layer_sizes=layer_sizes,\n",
    ")"
   ]
  },
  {
   "cell_type": "code",
   "execution_count": 88,
   "metadata": {},
   "outputs": [],
   "source": [
    "aux_log_stepwise_attn = [\n",
    "    {\"accuracy\": acc, \"hard_accuracy\": hard_acc, \"hard_loss\": hard_loss}\n",
    "    for acc, hard_acc, hard_loss in zip(\n",
    "        step_metrics_attn[\"soft_accuracy\"],\n",
    "        step_metrics_attn[\"hard_accuracy\"],\n",
    "        step_metrics_attn[\"hard_loss\"],\n",
    "    )\n",
    "]"
   ]
  },
  {
   "cell_type": "code",
   "execution_count": null,
   "metadata": {},
   "outputs": [],
   "source": [
    "step_metrics_attn.keys()"
   ]
  },
  {
   "cell_type": "code",
   "execution_count": 90,
   "metadata": {},
   "outputs": [],
   "source": [
    "attn_log_results = {\n",
    "    \"losses\": step_metrics_attn[\"soft_loss\"],\n",
    "    \"aux_log\": aux_log_stepwise_attn,\n",
    "}"
   ]
  },
  {
   "cell_type": "code",
   "execution_count": null,
   "metadata": {},
   "outputs": [],
   "source": [
    "# Compare GNN and BP\n",
    "\n",
    "fig, axs = plt.subplots(\n",
    "    2, 2, figsize=(16, 10), sharey=\"row\", sharex=\"col\", constrained_layout=True\n",
    ")\n",
    "\n",
    "for method, axs_method, results in zip(\n",
    "    [\"ATTN\", \"BP\"], axs.T, [attn_log_results, bp_results]\n",
    "):\n",
    "    for metric, ax in zip([\"loss\", \"accuracy\"], axs_method):\n",
    "        if metric == \"loss\":\n",
    "            plot_losses(\n",
    "                results[\"losses\"],\n",
    "                results[\"aux_log\"],\n",
    "                (fig, ax),\n",
    "                title=f\"{method} INNER LOSS\",\n",
    "            )\n",
    "        else:\n",
    "            plot_losses(\n",
    "                results[\"losses\"],\n",
    "                results[\"aux_log\"],\n",
    "                (fig, ax),\n",
    "                title=f\"{method} INNER ACCURACY\",\n",
    "                plot_accuracy=True,\n",
    "            )"
   ]
  },
  {
   "cell_type": "markdown",
   "metadata": {},
   "source": [
    "## WANDB"
   ]
  },
  {
   "cell_type": "code",
   "execution_count": null,
   "metadata": {},
   "outputs": [],
   "source": [
    "from boolean_nca_cc.training.utils import (\n",
    "    load_best_model_from_wandb,\n",
    "    cleanup_redundant_wandb_artifacts,\n",
    ")\n",
    "\n",
    "loaded_model, loaded_dict, loaded_config = load_best_model_from_wandb(\n",
    "    filters={\n",
    "        \"config.circuit.input_bits\": 4,\n",
    "        \"config.circuit.output_bits\": 4,\n",
    "        \"config.circuit.arity\": 2,\n",
    "        \"config.circuit.num_layers\": 3,\n",
    "        \"config.model.type\": \"self_attention\",\n",
    "        \"config.circuit.task\": \"binary_multiply\",\n",
    "        \"config.training.wiring_mode\": \"random\",\n",
    "    },\n",
    "    select_by_best_metric=False,\n",
    "    metric_name=\"training/hard_accuracy\",\n",
    "    use_cache=True,\n",
    "    force_download=True,\n",
    ")"
   ]
  },
  {
   "cell_type": "code",
   "execution_count": null,
   "metadata": {},
   "outputs": [],
   "source": [
    "cleanup_redundant_wandb_artifacts(\n",
    "    filters={\n",
    "        # \"config.circuit.input_bits\": 4,\n",
    "        # \"config.circuit.output_bits\": 4,\n",
    "        # \"config.circuit.arity\": 2,\n",
    "        # \"config.circuit.num_layers\": 3,\n",
    "        # \"config.model.type\": \"self_attention\",\n",
    "        # \"config.circuit.task\": \"binary_multiply\",\n",
    "        # \"config.training.wiring_mode\": \"random\",\n",
    "    },\n",
    "    dry_run=False,\n",
    "    verbose=True,\n",
    ")"
   ]
  },
  {
   "cell_type": "code",
   "execution_count": null,
   "metadata": {},
   "outputs": [],
   "source": [
    "delete_wandb_artifacts(\n",
    "    project_name=\"boolean-nca-cc\",\n",
    "    entity=\"m2snn\",\n",
    "    dry_run=True,\n",
    "    run_id=\"lvti1g3r\",\n",
    ")"
   ]
  },
  {
   "cell_type": "code",
   "execution_count": 25,
   "metadata": {},
   "outputs": [],
   "source": [
    "from boolean_nca_cc.training.evaluation import evaluate_model_stepwise\n",
    "from boolean_nca_cc.circuits.model import gen_circuit, generate_layer_sizes, run_circuit\n",
    "from boolean_nca_cc.circuits.tasks import get_task_data\n",
    "\n",
    "import jax\n",
    "import jax.numpy as jnp\n",
    "\n",
    "from boolean_nca_cc.utils import build_graph, extract_logits_from_graph"
   ]
  },
  {
   "cell_type": "code",
   "execution_count": 26,
   "metadata": {},
   "outputs": [],
   "source": [
    "key = jax.random.PRNGKey(42)\n",
    "input_n, output_n, arity, layer_n = (\n",
    "    loaded_config.circuit.input_bits,\n",
    "    loaded_config.circuit.output_bits,\n",
    "    loaded_config.circuit.arity,\n",
    "    loaded_config.circuit.num_layers,\n",
    ")\n",
    "case_n = 1 << input_n\n",
    "x = jp.arange(case_n)\n",
    "x, y0 = get_task_data(\n",
    "    loaded_config.circuit.task, case_n, input_bits=input_n, output_bits=output_n\n",
    ")\n",
    "\n",
    "hidden_dim = loaded_config.model.hidden_dim\n",
    "loss_type = loaded_config.training.loss_type\n",
    "layer_sizes = generate_layer_sizes(input_n, output_n, arity, layer_n=layer_n)\n",
    "wires, logits = gen_circuit(key, layer_sizes, arity=arity)\n",
    "graph = build_graph(logits, wires, input_n, arity, hidden_dim=hidden_dim, loss_value=0)"
   ]
  },
  {
   "cell_type": "code",
   "execution_count": null,
   "metadata": {},
   "outputs": [],
   "source": [
    "x.shape, y0.shape"
   ]
  },
  {
   "cell_type": "code",
   "execution_count": 28,
   "metadata": {},
   "outputs": [],
   "source": [
    "updated_graph = loaded_model(graph)"
   ]
  },
  {
   "cell_type": "code",
   "execution_count": 29,
   "metadata": {},
   "outputs": [],
   "source": [
    "updated_graph.nodes[\"logits\"].shape\n",
    "updated_logits = extract_logits_from_graph(updated_graph, [l.shape for l in logits])"
   ]
  },
  {
   "cell_type": "code",
   "execution_count": null,
   "metadata": {},
   "outputs": [],
   "source": [
    "step_metrics = evaluate_model_stepwise(\n",
    "    model=loaded_model,\n",
    "    wires=wires,\n",
    "    logits=logits,\n",
    "    x_data=x,\n",
    "    y_data=y0,\n",
    "    input_n=input_n,\n",
    "    n_message_steps=100,\n",
    "    arity=arity,\n",
    "    hidden_dim=hidden_dim,\n",
    "    loss_type=loss_type,\n",
    ")"
   ]
  },
  {
   "cell_type": "code",
   "execution_count": 31,
   "metadata": {},
   "outputs": [],
   "source": [
    "aux_log_stepwise = [\n",
    "    {\"accuracy\": acc, \"hard_accuracy\": hard_acc, \"hard_loss\": hard_loss}\n",
    "    for acc, hard_acc, hard_loss in zip(\n",
    "        step_metrics[\"soft_accuracy\"],\n",
    "        step_metrics[\"hard_accuracy\"],\n",
    "        step_metrics[\"hard_loss\"],\n",
    "    )\n",
    "]"
   ]
  },
  {
   "cell_type": "code",
   "execution_count": 32,
   "metadata": {},
   "outputs": [],
   "source": [
    "model_log_results = {\n",
    "    \"losses\": step_metrics[\"soft_loss\"],\n",
    "    \"aux_log\": aux_log_stepwise,\n",
    "}"
   ]
  },
  {
   "cell_type": "code",
   "execution_count": null,
   "metadata": {},
   "outputs": [],
   "source": [
    "# Compare GNN and BP\n",
    "\n",
    "fig, axs = plt.subplots(\n",
    "    2, 2, figsize=(16, 10), sharey=\"row\", sharex=\"col\", constrained_layout=True\n",
    ")\n",
    "\n",
    "for method, axs_method, results in zip(\n",
    "    [\"GNN\", \"BP\"], axs.T, [model_log_results, bp_results]\n",
    "):\n",
    "    for metric, ax in zip([\"loss\", \"accuracy\"], axs_method):\n",
    "        if metric == \"loss\":\n",
    "            plot_losses(\n",
    "                results[\"losses\"],\n",
    "                results[\"aux_log\"],\n",
    "                (fig, ax),\n",
    "                title=f\"{method} INNER LOSS\",\n",
    "            )\n",
    "        else:\n",
    "            plot_losses(\n",
    "                results[\"losses\"],\n",
    "                results[\"aux_log\"],\n",
    "                (fig, ax),\n",
    "                title=f\"{method} INNER ACCURACY\",\n",
    "                plot_accuracy=True,\n",
    "            )"
   ]
  }
 ],
 "metadata": {
  "colab": {
   "provenance": [
    {
     "file_id": "1yvBwoxMDPn9IZYRSK2sY2Ke-2oABePRO",
     "timestamp": 1746129217552
    }
   ]
  },
  "kernelspec": {
   "display_name": "cc_nca",
   "language": "python",
   "name": "python3"
  },
  "language_info": {
   "codemirror_mode": {
    "name": "ipython",
    "version": 3
   },
   "file_extension": ".py",
   "mimetype": "text/x-python",
   "name": "python",
   "nbconvert_exporter": "python",
   "pygments_lexer": "ipython3",
   "version": "3.13.2"
  }
 },
 "nbformat": 4,
 "nbformat_minor": 0
}

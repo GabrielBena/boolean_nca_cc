{
 "cells": [
  {
   "cell_type": "markdown",
   "metadata": {
    "cellView": "form",
    "id": "bDxuMCLDIvfs"
   },
   "source": [
    "## import & utils\n"
   ]
  },
  {
   "cell_type": "code",
   "execution_count": 6,
   "metadata": {},
   "outputs": [],
   "source": [
    "import matplotlib.pylab as pl\n",
    "import matplotlib.pyplot as plt\n",
    "import PIL.Image, PIL.ImageFont, PIL.ImageDraw\n",
    "from tqdm.auto import trange\n",
    "import jraph\n",
    "import numpy as np\n",
    "\n",
    "pl.style.use(\"dark_background\")\n",
    "\n",
    "\n",
    "def np2pil(a):\n",
    "    a = np.asarray(a)\n",
    "    if a.dtype.kind == \"f\":\n",
    "        a = np.uint8(a.clip(0, 1) * 255)\n",
    "    return PIL.Image.fromarray(a)\n",
    "\n",
    "\n",
    "def imshow(a):\n",
    "    display(np2pil(a))\n",
    "\n",
    "\n",
    "def zoom(a, k=2):\n",
    "    return np.repeat(np.repeat(a, k, 1), k, 0)\n",
    "\n",
    "\n",
    "def tile2d(a, w=None):\n",
    "    a = np.asarray(a)\n",
    "    if w is None:\n",
    "        w = int(np.ceil(np.sqrt(len(a))))\n",
    "    th, tw = a.shape[1:3]\n",
    "    pad = (w - len(a)) % w\n",
    "    a = np.pad(a, [(0, pad)] + [(0, 0)] * (a.ndim - 1), \"constant\")\n",
    "    h = len(a) // w\n",
    "    a = a.reshape([h, w] + list(a.shape[1:]))\n",
    "    a = np.rollaxis(a, 2, 1).reshape([th * h, tw * w] + list(a.shape[4:]))\n",
    "    return a"
   ]
  },
  {
   "cell_type": "code",
   "execution_count": 2,
   "metadata": {
    "id": "pfh9vZTrJDLt"
   },
   "outputs": [],
   "source": [
    "import jax\n",
    "import jax.numpy as jp\n",
    "import optax\n",
    "from flax import nnx"
   ]
  },
  {
   "cell_type": "code",
   "execution_count": 3,
   "metadata": {},
   "outputs": [],
   "source": [
    "%load_ext autoreload\n",
    "%autoreload 2"
   ]
  },
  {
   "cell_type": "markdown",
   "metadata": {},
   "source": [
    "## Params"
   ]
  },
  {
   "cell_type": "code",
   "execution_count": 4,
   "metadata": {},
   "outputs": [],
   "source": [
    "from boolean_nca_cc import generate_layer_sizes"
   ]
  },
  {
   "cell_type": "code",
   "execution_count": 5,
   "metadata": {},
   "outputs": [],
   "source": [
    "input_n, output_n = 3, 3\n",
    "arity = 2\n",
    "layer_sizes = generate_layer_sizes(input_n, output_n, arity, layer_n=2)\n",
    "loss_type = \"l4\""
   ]
  },
  {
   "cell_type": "code",
   "execution_count": 10,
   "metadata": {},
   "outputs": [
    {
     "data": {
      "text/plain": [
       "[(3, 1), (12, 2), (6, 1), (3, 1)]"
      ]
     },
     "execution_count": 10,
     "metadata": {},
     "output_type": "execute_result"
    }
   ],
   "source": [
    "layer_sizes"
   ]
  },
  {
   "cell_type": "markdown",
   "metadata": {},
   "source": [
    "## Training\n"
   ]
  },
  {
   "cell_type": "markdown",
   "metadata": {},
   "source": [
    "### BackProp"
   ]
  },
  {
   "cell_type": "code",
   "execution_count": 8,
   "metadata": {},
   "outputs": [],
   "source": [
    "from boolean_nca_cc.circuits.model import gen_circuit\n",
    "from boolean_nca_cc.circuits.train import TrainState, train_step\n",
    "from boolean_nca_cc.circuits.viz import evaluate_and_visualize\n",
    "from boolean_nca_cc.circuits.tasks import get_task_data"
   ]
  },
  {
   "cell_type": "code",
   "execution_count": 9,
   "metadata": {
    "colab": {
     "base_uri": "https://localhost:8080/",
     "height": 81
    },
    "executionInfo": {
     "elapsed": 598,
     "status": "ok",
     "timestamp": 1746110816074,
     "user": {
      "displayName": "Alexander Mordvintsev",
      "userId": "01126991178202355563"
     },
     "user_tz": -120
    },
    "id": "p4w7oBT7OMV_",
    "outputId": "67cd74c7-a396-4731-86bd-293f31309f12"
   },
   "outputs": [
    {
     "data": {
      "image/jpeg": "[encoded data removed]",
      "image/png": "[encoded data removed]",
      "text/plain": [
       "<PIL.Image.Image image mode=L size=64x24>"
      ]
     },
     "metadata": {},
     "output_type": "display_data"
    },
    {
     "data": {
      "image/jpeg": "[encoded data removed]",
      "image/png": "[encoded data removed]",
      "text/plain": [
       "<PIL.Image.Image image mode=L size=64x24>"
      ]
     },
     "metadata": {},
     "output_type": "display_data"
    }
   ],
   "source": [
    "key = jax.random.PRNGKey(42)\n",
    "wires, logitsbp = gen_circuit(key, layer_sizes, arity=arity)\n",
    "\n",
    "opt = optax.adamw(1, 0.8, 0.8, weight_decay=1e-1)\n",
    "state = TrainState(params=logitsbp, opt_state=opt.init(logitsbp))\n",
    "\n",
    "\n",
    "case_n = 1 << input_n\n",
    "x = jp.arange(case_n)\n",
    "x, y0 = get_task_data(\"reverse\", case_n, input_bits=input_n)\n",
    "\n",
    "zoom_factor = 8\n",
    "imshow(zoom(x.T, zoom_factor))\n",
    "imshow(zoom(y0.T, zoom_factor))"
   ]
  },
  {
   "cell_type": "code",
   "execution_count": 10,
   "metadata": {},
   "outputs": [],
   "source": [
    "loss_log_bp = []\n",
    "aux_log_bp = []"
   ]
  },
  {
   "cell_type": "code",
   "execution_count": 11,
   "metadata": {
    "colab": {
     "base_uri": "https://localhost:8080/"
    },
    "executionInfo": {
     "elapsed": 1758,
     "status": "ok",
     "timestamp": 1746110848578,
     "user": {
      "displayName": "Alexander Mordvintsev",
      "userId": "01126991178202355563"
     },
     "user_tz": -120
    },
    "id": "5I0LI_0uRqTz",
    "outputId": "7b60e572-ea44-434a-9953-358c8eb84037"
   },
   "outputs": [
    {
     "data": {
      "application/vnd.jupyter.widget-view+json": {
       "model_id": "9aed389d4f77444c8472a3c3a768e9ae",
       "version_major": 2,
       "version_minor": 0
      },
      "text/plain": [
       "  0%|          | 0/100 [00:00<?, ?it/s]"
      ]
     },
     "metadata": {},
     "output_type": "display_data"
    }
   ],
   "source": [
    "pbar = trange(100)\n",
    "for i in pbar:\n",
    "    loss, aux, state = train_step(state, opt, wires, x, y0, loss_type, do_train=True)\n",
    "    loss_log_bp.append(loss)\n",
    "    aux_log_bp.append(aux)\n",
    "    pbar.set_postfix_str(\n",
    "        f\"loss: {loss.item():.3E}, accuracy: {aux['accuracy'].item():.2%}\"\n",
    "        + (\n",
    "            f\" | hard_loss: {aux['hard_loss'].item():.3E}, hard_accuracy: {aux['hard_accuracy'].item():.2%}\"\n",
    "            if \"hard_loss\" in aux\n",
    "            else \"\"\n",
    "        )\n",
    "    )"
   ]
  },
  {
   "cell_type": "code",
   "execution_count": 12,
   "metadata": {},
   "outputs": [
    {
     "data": {
      "image/png": "[encoded data removed]",
      "text/plain": [
       "<Figure size 1000x500 with 2 Axes>"
      ]
     },
     "metadata": {},
     "output_type": "display_data"
    }
   ],
   "source": [
    "def plot_losses(\n",
    "    loss_log, aux_log, figax=None, title=None, plot_accuracy=False, plot_hard=True\n",
    "):\n",
    "    if figax is None:\n",
    "        fig, ax = plt.subplots()\n",
    "    else:\n",
    "        fig, ax = figax\n",
    "    v = len(loss_log) // 10\n",
    "\n",
    "    if not plot_accuracy:\n",
    "        smooth_losses = np.convolve(loss_log, np.ones(v) / v, mode=\"valid\")\n",
    "        hard_losses = [aux[\"hard_loss\"] for aux in aux_log]\n",
    "        smooth_hard_losses = np.convolve(hard_losses, np.ones(v) / v, mode=\"valid\")\n",
    "        ax.plot(smooth_losses, label=\"soft\")\n",
    "        if plot_hard:\n",
    "            ax.plot(jp.maximum(smooth_hard_losses, 1e-5), label=\"hard\")\n",
    "    else:\n",
    "        accs = [aux[\"accuracy\"] for aux in aux_log]\n",
    "        smooth_accs = np.convolve(accs, np.ones(v) / v, mode=\"valid\")\n",
    "        ax.plot(smooth_accs, label=\"soft\")\n",
    "        hard_accs = [aux[\"hard_accuracy\"] for aux in aux_log]\n",
    "        smooth_hard_accs = np.convolve(hard_accs, np.ones(v) / v, mode=\"valid\")\n",
    "        if plot_hard:\n",
    "            ax.plot(smooth_hard_accs, label=\"hard\")\n",
    "\n",
    "    ax.legend()\n",
    "    ax.set_yscale(\"log\")\n",
    "\n",
    "    if title is not None:\n",
    "        ax.set_title(title)\n",
    "\n",
    "\n",
    "fig, axs = plt.subplots(\n",
    "    1, 2, figsize=(10, 5), sharey=False, sharex=True, constrained_layout=True\n",
    ")\n",
    "plot_losses(loss_log_bp, aux_log_bp, (fig, axs[0]), title=\"BP INNER LOSS\")\n",
    "plot_losses(\n",
    "    loss_log_bp,\n",
    "    aux_log_bp,\n",
    "    (fig, axs[1]),\n",
    "    plot_accuracy=True,\n",
    "    title=\"BP INNER ACCURACY\",\n",
    ")"
   ]
  },
  {
   "cell_type": "code",
   "execution_count": 13,
   "metadata": {},
   "outputs": [],
   "source": [
    "bp_results = {\n",
    "    \"losses\": loss_log_bp,\n",
    "    \"aux_log\": aux_log_bp,\n",
    "}"
   ]
  },
  {
   "cell_type": "code",
   "execution_count": 14,
   "metadata": {
    "colab": {
     "base_uri": "https://localhost:8080/",
     "height": 430
    },
    "executionInfo": {
     "elapsed": 157,
     "status": "ok",
     "timestamp": 1746110850745,
     "user": {
      "displayName": "Alexander Mordvintsev",
      "userId": "01126991178202355563"
     },
     "user_tz": -120
    },
    "id": "XIn3JywITllR",
    "outputId": "67b56ec9-c715-4261-b6f7-910666410130"
   },
   "outputs": [
    {
     "data": {
      "image/png": "[encoded data removed]",
      "text/plain": [
       "<Figure size 2000x600 with 3 Axes>"
      ]
     },
     "metadata": {},
     "output_type": "display_data"
    }
   ],
   "source": [
    "metrics = evaluate_and_visualize(state.params, wires, x, y0, hard=True)"
   ]
  },
  {
   "cell_type": "code",
   "execution_count": 15,
   "metadata": {},
   "outputs": [
    {
     "ename": "KeyboardInterrupt",
     "evalue": "",
     "output_type": "error",
     "traceback": [
      "\u001b[31m---------------------------------------------------------------------------\u001b[39m",
      "\u001b[31mKeyboardInterrupt\u001b[39m                         Traceback (most recent call last)",
      "\u001b[36mCell\u001b[39m\u001b[36m \u001b[39m\u001b[32mIn[15]\u001b[39m\u001b[32m, line 1\u001b[39m\n\u001b[32m----> \u001b[39m\u001b[32m1\u001b[39m \u001b[38;5;28;01mraise\u001b[39;00m \u001b[38;5;167;01mKeyboardInterrupt\u001b[39;00m()\n",
      "\u001b[31mKeyboardInterrupt\u001b[39m: "
     ]
    }
   ],
   "source": [
    "raise KeyboardInterrupt()"
   ]
  },
  {
   "cell_type": "code",
   "execution_count": 19,
   "metadata": {},
   "outputs": [],
   "source": [
    "from boolean_nca_cc.utils import build_graph, extract_logits_from_graph\n",
    "from boolean_nca_cc.circuits.train import loss_f_l4"
   ]
  },
  {
   "cell_type": "markdown",
   "metadata": {},
   "source": [
    "### GNN"
   ]
  },
  {
   "cell_type": "code",
   "execution_count": 20,
   "metadata": {},
   "outputs": [],
   "source": [
    "from boolean_nca_cc.models import CircuitGNN, run_gnn_scan\n",
    "from boolean_nca_cc.training import train_model"
   ]
  },
  {
   "cell_type": "code",
   "execution_count": 21,
   "metadata": {},
   "outputs": [],
   "source": [
    "hidden_dim = 128\n",
    "hidden_features = 128\n",
    "n_message_steps = 1\n",
    "loss, aux = loss_f_l4(logitsbp, wires, x, y0)\n",
    "graph = build_graph(\n",
    "    logitsbp, wires, input_n, arity, hidden_dim=hidden_dim, loss_value=loss\n",
    ")\n",
    "\n",
    "gnn = CircuitGNN(\n",
    "    hidden_dim=hidden_dim,\n",
    "    message_passing=True,\n",
    "    node_mlp_features=[hidden_features, hidden_features],\n",
    "    edge_mlp_features=[hidden_features, hidden_features],\n",
    "    rngs=nnx.Rngs(params=jax.random.PRNGKey(42)),\n",
    "    use_attention=False,\n",
    "    arity=arity,\n",
    ")\n",
    "\n",
    "opt_fn = optax.adamw(1e-4, weight_decay=1e-5)\n",
    "opt = nnx.Optimizer(gnn, opt_fn)"
   ]
  },
  {
   "cell_type": "code",
   "execution_count": 22,
   "metadata": {},
   "outputs": [],
   "source": [
    "def loss_fn(gnn: CircuitGNN, graph: jraph.GraphsTuple, wires: jax.Array = wires):\n",
    "    updated_graph = run_gnn_scan(gnn, graph, n_message_steps)\n",
    "    updated_logits = extract_logits_from_graph(\n",
    "        updated_graph, [l.shape for l in logitsbp]\n",
    "    )\n",
    "    loss, aux = loss_f_l4(updated_logits, wires, x, y0)\n",
    "    return loss, updated_graph"
   ]
  },
  {
   "cell_type": "code",
   "execution_count": 23,
   "metadata": {},
   "outputs": [],
   "source": [
    "(loss, aux), grads = nnx.value_and_grad(loss_fn, has_aux=True)(gnn, graph)\n",
    "opt.update(grads)\n",
    "(loss, aux), grads = nnx.value_and_grad(loss_fn, has_aux=True)(gnn, graph)\n",
    "assert any(jax.tree.leaves(jax.tree.map(lambda x: x.any(), grads))), \"No grads\""
   ]
  },
  {
   "cell_type": "markdown",
   "metadata": {},
   "source": [
    "### Training"
   ]
  },
  {
   "cell_type": "code",
   "execution_count": null,
   "metadata": {},
   "outputs": [
    {
     "name": "stdout",
     "output_type": "stream",
     "text": [
      "SINGLE WIRES [Array([[1, 1, 2, 2, 0, 0],\n",
      "       [1, 2, 2, 0, 0, 1]], dtype=int32), Array([[ 2, 10,  0,  4, 11,  5],\n",
      "       [ 7,  9,  6,  3,  1,  8]], dtype=int32), Array([[2, 1, 4],\n",
      "       [3, 5, 0]], dtype=int32)]\n"
     ]
    },
    {
     "data": {
      "application/vnd.jupyter.widget-view+json": {
       "model_id": "e914e7ee2b6e48c09eaa3c5501049b1a",
       "version_major": 2,
       "version_minor": 0
      },
      "text/plain": [
       "Training GNN:   0%|          | 0/2048 [00:00<?, ?it/s]"
      ]
     },
     "metadata": {},
     "output_type": "display_data"
    }
   ],
   "source": [
    "gnn_results = train_model(\n",
    "    key=0,\n",
    "    init_model=gnn,\n",
    "    # CIRCUIT PARAMS\n",
    "    layer_sizes=layer_sizes,\n",
    "    x_data=x,\n",
    "    y_data=y0,\n",
    "    arity=arity,\n",
    "    # TRAINING PARAMS\n",
    "    epochs=2**11,\n",
    "    n_message_steps=1,\n",
    "    meta_batch_size=256,\n",
    "    # WIRING MODE PARAMS\n",
    "    wiring_mode=\"fixed\",\n",
    "    wiring_fixed_key=jax.random.PRNGKey(42),\n",
    "    # LOSS PARAMS\n",
    "    loss_type=\"l4\",\n",
    "    # OPTIMIZER PARAMS\n",
    "    learning_rate=1e-3,\n",
    "    weight_decay=1e-5,\n",
    "    # LEARNING RATE SCHEDULER\n",
    "    lr_scheduler=\"linear_warmup\",\n",
    "    # Model Params\n",
    "    hidden_dim=hidden_dim,\n",
    "    # POOL PARAMS : current mean avg of 100 steps before reset\n",
    "    use_pool=True,\n",
    "    pool_size=1024,\n",
    "    reset_pool_fraction=0.075,\n",
    "    reset_pool_interval=2**5,\n",
    "    reset_strategy=\"combined\",\n",
    ")"
   ]
  },
  {
   "cell_type": "code",
   "execution_count": 25,
   "metadata": {},
   "outputs": [
    {
     "ename": "NameError",
     "evalue": "name 'gnn_results' is not defined",
     "output_type": "error",
     "traceback": [
      "\u001b[31m---------------------------------------------------------------------------\u001b[39m",
      "\u001b[31mNameError\u001b[39m                                 Traceback (most recent call last)",
      "\u001b[36mCell\u001b[39m\u001b[36m \u001b[39m\u001b[32mIn[25]\u001b[39m\u001b[32m, line 2\u001b[39m\n\u001b[32m      1\u001b[39m \u001b[38;5;28;01mtry\u001b[39;00m:\n\u001b[32m----> \u001b[39m\u001b[32m2\u001b[39m     gnn_results[\u001b[33m\"\u001b[39m\u001b[33mmodel\u001b[39m\u001b[33m\"\u001b[39m] = nnx.state(gnn_results[\u001b[33m\"\u001b[39m\u001b[33mmodel\u001b[39m\u001b[33m\"\u001b[39m])\n\u001b[32m      3\u001b[39m     gnn_results[\u001b[33m\"\u001b[39m\u001b[33moptimizer\u001b[39m\u001b[33m\"\u001b[39m] = nnx.state(gnn_results[\u001b[33m\"\u001b[39m\u001b[33moptimizer\u001b[39m\u001b[33m\"\u001b[39m])\n\u001b[32m      4\u001b[39m \u001b[38;5;28;01mexcept\u001b[39;00m \u001b[38;5;167;01mValueError\u001b[39;00m:\n",
      "\u001b[31mNameError\u001b[39m: name 'gnn_results' is not defined"
     ]
    }
   ],
   "source": [
    "try:\n",
    "    gnn_results[\"model\"] = nnx.state(gnn_results[\"model\"])\n",
    "    gnn_results[\"optimizer\"] = nnx.state(gnn_results[\"optimizer\"])\n",
    "except ValueError:\n",
    "    print(\"already converted\")\n",
    "    pass"
   ]
  },
  {
   "cell_type": "code",
   "execution_count": 26,
   "metadata": {},
   "outputs": [
    {
     "ename": "NameError",
     "evalue": "name 'gnn_results' is not defined",
     "output_type": "error",
     "traceback": [
      "\u001b[31m---------------------------------------------------------------------------\u001b[39m",
      "\u001b[31mNameError\u001b[39m                                 Traceback (most recent call last)",
      "\u001b[36mCell\u001b[39m\u001b[36m \u001b[39m\u001b[32mIn[26]\u001b[39m\u001b[32m, line 5\u001b[39m\n\u001b[32m      2\u001b[39m \u001b[38;5;28;01mimport\u001b[39;00m\u001b[38;5;250m \u001b[39m\u001b[34;01mpickle\u001b[39;00m\n\u001b[32m      4\u001b[39m \u001b[38;5;28;01mwith\u001b[39;00m \u001b[38;5;28mopen\u001b[39m(\u001b[33m\"\u001b[39m\u001b[33mgnn_results.pkl\u001b[39m\u001b[33m\"\u001b[39m, \u001b[33m\"\u001b[39m\u001b[33mwb\u001b[39m\u001b[33m\"\u001b[39m) \u001b[38;5;28;01mas\u001b[39;00m f:\n\u001b[32m----> \u001b[39m\u001b[32m5\u001b[39m     pickle.dump(gnn_results, f)\n",
      "\u001b[31mNameError\u001b[39m: name 'gnn_results' is not defined"
     ]
    }
   ],
   "source": [
    "# save gnn_results\n",
    "import pickle\n",
    "\n",
    "with open(\"gnn_results.pkl\", \"wb\") as f:\n",
    "    pickle.dump(gnn_results, f)"
   ]
  },
  {
   "cell_type": "code",
   "execution_count": 68,
   "metadata": {},
   "outputs": [],
   "source": [
    "# recreate aux in old format\n",
    "aux_log = [\n",
    "    {\n",
    "        \"accuracy\": accuracies,\n",
    "        \"hard_accuracy\": hard_acc,\n",
    "        \"hard_loss\": hard_loss,\n",
    "    }\n",
    "    for accuracies, hard_acc, hard_loss in zip(\n",
    "        gnn_results[\"accuracies\"],\n",
    "        gnn_results[\"hard_accuracies\"],\n",
    "        gnn_results[\"hard_losses\"],\n",
    "    )\n",
    "]"
   ]
  },
  {
   "cell_type": "code",
   "execution_count": 27,
   "metadata": {},
   "outputs": [
    {
     "ename": "NameError",
     "evalue": "name 'gnn_results' is not defined",
     "output_type": "error",
     "traceback": [
      "\u001b[31m---------------------------------------------------------------------------\u001b[39m",
      "\u001b[31mNameError\u001b[39m                                 Traceback (most recent call last)",
      "\u001b[36mCell\u001b[39m\u001b[36m \u001b[39m\u001b[32mIn[27]\u001b[39m\u001b[32m, line 5\u001b[39m\n\u001b[32m      1\u001b[39m fig, axs = plt.subplots(\n\u001b[32m      2\u001b[39m     \u001b[32m1\u001b[39m, \u001b[32m2\u001b[39m, figsize=(\u001b[32m10\u001b[39m, \u001b[32m5\u001b[39m), sharey=\u001b[38;5;28;01mFalse\u001b[39;00m, sharex=\u001b[38;5;28;01mTrue\u001b[39;00m, constrained_layout=\u001b[38;5;28;01mTrue\u001b[39;00m\n\u001b[32m      3\u001b[39m )\n\u001b[32m      4\u001b[39m plot_losses(\n\u001b[32m----> \u001b[39m\u001b[32m5\u001b[39m     gnn_results[\u001b[33m\"\u001b[39m\u001b[33mlosses\u001b[39m\u001b[33m\"\u001b[39m], aux_log, (fig, axs[\u001b[32m0\u001b[39m]), title=\u001b[33m\"\u001b[39m\u001b[33mMETA LOSS\u001b[39m\u001b[33m\"\u001b[39m, plot_hard=\u001b[38;5;28;01mTrue\u001b[39;00m\n\u001b[32m      6\u001b[39m )\n\u001b[32m      7\u001b[39m plot_losses(\n\u001b[32m      8\u001b[39m     gnn_results[\u001b[33m\"\u001b[39m\u001b[33mlosses\u001b[39m\u001b[33m\"\u001b[39m],\n\u001b[32m      9\u001b[39m     aux_log,\n\u001b[32m   (...)\u001b[39m\u001b[32m     13\u001b[39m     plot_hard=\u001b[38;5;28;01mTrue\u001b[39;00m,\n\u001b[32m     14\u001b[39m )\n",
      "\u001b[31mNameError\u001b[39m: name 'gnn_results' is not defined"
     ]
    },
    {
     "data": {
      "image/png": "[encoded data removed]",
      "text/plain": [
       "<Figure size 1000x500 with 2 Axes>"
      ]
     },
     "metadata": {},
     "output_type": "display_data"
    }
   ],
   "source": [
    "fig, axs = plt.subplots(\n",
    "    1, 2, figsize=(10, 5), sharey=False, sharex=True, constrained_layout=True\n",
    ")\n",
    "plot_losses(\n",
    "    gnn_results[\"losses\"], aux_log, (fig, axs[0]), title=\"META LOSS\", plot_hard=True\n",
    ")\n",
    "plot_losses(\n",
    "    gnn_results[\"losses\"],\n",
    "    aux_log,\n",
    "    (fig, axs[1]),\n",
    "    plot_accuracy=True,\n",
    "    title=\"META ACCURACY\",\n",
    "    plot_hard=True,\n",
    ")"
   ]
  },
  {
   "cell_type": "code",
   "execution_count": 71,
   "metadata": {},
   "outputs": [
    {
     "data": {
      "text/plain": [
       "[<matplotlib.lines.Line2D at 0x7f5ec232bd90>]"
      ]
     },
     "execution_count": 71,
     "metadata": {},
     "output_type": "execute_result"
    },
    {
     "data": {
      "image/png": "[encoded data removed]",
      "text/plain": [
       "<Figure size 640x480 with 1 Axes>"
      ]
     },
     "metadata": {},
     "output_type": "display_data"
    }
   ],
   "source": [
    "v = len(gnn_results[\"reset_steps\"]) // 10\n",
    "plt.plot(np.convolve(gnn_results[\"reset_steps\"], np.ones(v) / v, mode=\"valid\"))"
   ]
  },
  {
   "cell_type": "code",
   "execution_count": 38,
   "metadata": {},
   "outputs": [],
   "source": [
    "# Get the inner loop losses\n",
    "from boolean_nca_cc.training.evaluation import evaluate_model_stepwise"
   ]
  },
  {
   "cell_type": "code",
   "execution_count": 39,
   "metadata": {},
   "outputs": [
    {
     "name": "stdout",
     "output_type": "stream",
     "text": [
      "[Array([[1, 1, 2, 2, 0, 0],\n",
      "       [1, 2, 2, 0, 0, 1]], dtype=int32), Array([[ 2, 10,  0,  4, 11,  5],\n",
      "       [ 7,  9,  6,  3,  1,  8]], dtype=int32), Array([[2, 1, 4],\n",
      "       [3, 5, 0]], dtype=int32)]\n"
     ]
    }
   ],
   "source": [
    "key = jax.random.PRNGKey(42)\n",
    "wires_gnn, logits_gnn = gen_circuit(key, layer_sizes, arity=arity)\n",
    "print(wires_gnn)\n",
    "graph = build_graph(\n",
    "    logits_gnn, wires_gnn, input_n, arity, hidden_dim=hidden_dim, loss_value=loss\n",
    ")"
   ]
  },
  {
   "cell_type": "code",
   "execution_count": 40,
   "metadata": {},
   "outputs": [],
   "source": [
    "for i in range(2):\n",
    "    graph = gnn(graph)"
   ]
  },
  {
   "cell_type": "code",
   "execution_count": 41,
   "metadata": {},
   "outputs": [],
   "source": [
    "final_logits = extract_logits_from_graph(graph, [l.shape for l in logits_gnn])"
   ]
  },
  {
   "cell_type": "code",
   "execution_count": 42,
   "metadata": {},
   "outputs": [
    {
     "data": {
      "image/png": "[encoded data removed]",
      "text/plain": [
       "<Figure size 2000x600 with 3 Axes>"
      ]
     },
     "metadata": {},
     "output_type": "display_data"
    }
   ],
   "source": [
    "metrics = evaluate_and_visualize(final_logits, wires, x, y0, hard=True)"
   ]
  },
  {
   "cell_type": "code",
   "execution_count": null,
   "metadata": {},
   "outputs": [],
   "source": [
    "step_metrics = evaluate_model_stepwise(\n",
    "    gnn,\n",
    "    wires_gnn,\n",
    "    logits_gnn,\n",
    "    x,\n",
    "    y0,\n",
    "    input_n,\n",
    "    n_message_steps=100,\n",
    "    arity=arity,\n",
    "    hidden_dim=hidden_dim,\n",
    "    loss_type=\"l4\",\n",
    ")"
   ]
  },
  {
   "cell_type": "code",
   "execution_count": 74,
   "metadata": {},
   "outputs": [],
   "source": [
    "aux_log_stepwise = [\n",
    "    {\"accuracy\": acc, \"hard_accuracy\": hard_acc, \"hard_loss\": hard_loss}\n",
    "    for acc, hard_acc, hard_loss in zip(\n",
    "        step_metrics[\"soft_accuracy\"],\n",
    "        step_metrics[\"hard_accuracy\"],\n",
    "        step_metrics[\"hard_loss\"],\n",
    "    )\n",
    "]"
   ]
  },
  {
   "cell_type": "code",
   "execution_count": 75,
   "metadata": {},
   "outputs": [
    {
     "data": {
      "text/plain": [
       "dict_keys(['step', 'soft_loss', 'hard_loss', 'soft_accuracy', 'hard_accuracy', 'logits_mean'])"
      ]
     },
     "execution_count": 75,
     "metadata": {},
     "output_type": "execute_result"
    }
   ],
   "source": [
    "step_metrics.keys()"
   ]
  },
  {
   "cell_type": "code",
   "execution_count": 76,
   "metadata": {},
   "outputs": [],
   "source": [
    "gnn_log_results = {\n",
    "    \"losses\": step_metrics[\"soft_loss\"],\n",
    "    \"aux_log\": aux_log_stepwise,\n",
    "}"
   ]
  },
  {
   "cell_type": "code",
   "execution_count": 77,
   "metadata": {},
   "outputs": [
    {
     "data": {
      "image/png": "[encoded data removed]",
      "text/plain": [
       "<Figure size 1600x1000 with 4 Axes>"
      ]
     },
     "metadata": {},
     "output_type": "display_data"
    }
   ],
   "source": [
    "# Compare GNN and BP\n",
    "\n",
    "fig, axs = plt.subplots(\n",
    "    2, 2, figsize=(16, 10), sharey=\"row\", sharex=\"col\", constrained_layout=True\n",
    ")\n",
    "\n",
    "for method, axs_method, results in zip(\n",
    "    [\"GNN\", \"BP\"], axs.T, [gnn_log_results, bp_results]\n",
    "):\n",
    "    for metric, ax in zip([\"loss\", \"accuracy\"], axs_method):\n",
    "        if metric == \"loss\":\n",
    "            plot_losses(\n",
    "                results[\"losses\"],\n",
    "                results[\"aux_log\"],\n",
    "                (fig, ax),\n",
    "                title=f\"{method} INNER LOSS\",\n",
    "            )\n",
    "        else:\n",
    "            plot_losses(\n",
    "                results[\"losses\"],\n",
    "                results[\"aux_log\"],\n",
    "                (fig, ax),\n",
    "                title=f\"{method} INNER ACCURACY\",\n",
    "                plot_accuracy=True,\n",
    "            )"
   ]
  },
  {
   "cell_type": "markdown",
   "metadata": {},
   "source": [
    "### Pool"
   ]
  },
  {
   "cell_type": "code",
   "execution_count": 46,
   "metadata": {},
   "outputs": [],
   "source": [
    "from boolean_nca_cc.training.pool import GraphPool, initialize_graph_pool"
   ]
  },
  {
   "cell_type": "code",
   "execution_count": 47,
   "metadata": {},
   "outputs": [],
   "source": [
    "init_pool = initialize_graph_pool(\n",
    "    jax.random.PRNGKey(42),\n",
    "    pool_size=1024,\n",
    "    # circuit params\n",
    "    layer_sizes=layer_sizes,\n",
    "    arity=arity,\n",
    "    input_n=input_n,\n",
    "    # graph params\n",
    "    hidden_dim=hidden_dim,\n",
    "    loss_value=loss,\n",
    "    wiring_mode=\"fixed\",\n",
    ")"
   ]
  },
  {
   "cell_type": "code",
   "execution_count": 48,
   "metadata": {},
   "outputs": [
    {
     "data": {
      "text/plain": [
       "(Array([[3, 0, 2, 1, 3, 2, 2, 3],\n",
       "        [3, 0, 1, 1, 2, 0, 1, 0]], dtype=int32),\n",
       " Array([[3, 0, 2, 1, 3, 2, 2, 3],\n",
       "        [3, 0, 1, 1, 2, 0, 1, 0]], dtype=int32))"
      ]
     },
     "execution_count": 48,
     "metadata": {},
     "output_type": "execute_result"
    }
   ],
   "source": [
    "init_pool.wires[0][3], init_pool.wires[0][2]"
   ]
  },
  {
   "cell_type": "code",
   "execution_count": 25,
   "metadata": {},
   "outputs": [],
   "source": [
    "idxs, graphs, batch_of_wires, batch_of_logits = init_pool.sample(\n",
    "    jax.random.PRNGKey(42), 16\n",
    ")"
   ]
  },
  {
   "cell_type": "code",
   "execution_count": 26,
   "metadata": {},
   "outputs": [
    {
     "data": {
      "text/plain": [
       "(Array(0., dtype=float32),\n",
       " Array([ 196,   18,  183,  193,  653,  363,  385,  295,    6,  258,  552,\n",
       "        1010,  409,  475,  972,  786], dtype=int32))"
      ]
     },
     "execution_count": 26,
     "metadata": {},
     "output_type": "execute_result"
    }
   ],
   "source": [
    "graphs.nodes[\"logits\"].sum(), idxs"
   ]
  },
  {
   "cell_type": "code",
   "execution_count": 29,
   "metadata": {},
   "outputs": [],
   "source": [
    "losses, updated_graphs = nnx.vmap(loss_fn, in_axes=(None, 0, 0))(\n",
    "    gnn, graphs, batch_of_wires\n",
    ")"
   ]
  },
  {
   "cell_type": "code",
   "execution_count": 30,
   "metadata": {},
   "outputs": [
    {
     "data": {
      "text/plain": [
       "(Array(-152602.31, dtype=float32),\n",
       " Array([ 196,   18,  183,  193,  653,  363,  385,  295,    6,  258,  552,\n",
       "        1010,  409,  475,  972,  786], dtype=int32))"
      ]
     },
     "execution_count": 30,
     "metadata": {},
     "output_type": "execute_result"
    }
   ],
   "source": [
    "updated_graphs.nodes[\"logits\"].sum(), idxs"
   ]
  },
  {
   "cell_type": "code",
   "execution_count": 31,
   "metadata": {},
   "outputs": [],
   "source": [
    "updated_batch_of_logits = jax.vmap(extract_logits_from_graph, in_axes=(0, None))(\n",
    "    updated_graphs, [l.shape[1:] for l in batch_of_logits]\n",
    ")"
   ]
  },
  {
   "cell_type": "code",
   "execution_count": 32,
   "metadata": {},
   "outputs": [],
   "source": [
    "new_pool = init_pool.update(idxs, updated_graphs)"
   ]
  },
  {
   "cell_type": "code",
   "execution_count": 33,
   "metadata": {},
   "outputs": [],
   "source": [
    "new_idxs, new_graphs, new_batch_of_wires, new_batch_of_logits = new_pool.sample(\n",
    "    jax.random.PRNGKey(42), 16\n",
    ")"
   ]
  },
  {
   "cell_type": "code",
   "execution_count": 34,
   "metadata": {},
   "outputs": [
    {
     "data": {
      "text/plain": [
       "(Array(-152602.31, dtype=float32), Array(-147320.38, dtype=float32))"
      ]
     },
     "execution_count": 34,
     "metadata": {},
     "output_type": "execute_result"
    }
   ],
   "source": [
    "(\n",
    "    new_graphs.nodes[\"logits\"].sum(),\n",
    "    sum(jax.tree.map(lambda x: x.sum(), new_batch_of_logits)),\n",
    ")\n",
    "\n",
    "# Update cprrect"
   ]
  },
  {
   "cell_type": "code",
   "execution_count": 36,
   "metadata": {},
   "outputs": [],
   "source": [
    "new_pool = initialize_graph_pool(\n",
    "    jax.random.PRNGKey(42),\n",
    "    pool_size=1024,\n",
    "    # circuit params\n",
    "    layer_sizes=layer_sizes,\n",
    "    arity=arity,\n",
    "    input_n=input_n,\n",
    "    # graph params\n",
    "    hidden_dim=hidden_dim,\n",
    "    loss_value=loss,\n",
    ")"
   ]
  },
  {
   "cell_type": "code",
   "execution_count": 38,
   "metadata": {},
   "outputs": [
    {
     "data": {
      "text/plain": [
       "GraphPool(size=1024, graphs=GraphsTuple(nodes={'gate_id': Array([[  0,   1,   2, ..., 237, 238, 239],\n",
       "       [  0,   1,   2, ..., 237, 238, 239],\n",
       "       [  0,   1,   2, ..., 237, 238, 239],\n",
       "       ...,\n",
       "       [  0,   1,   2, ..., 237, 238, 239],\n",
       "       [  0,   1,   2, ..., 237, 238, 239],\n",
       "       [  0,   1,   2, ..., 237, 238, 239]], dtype=int32), 'group': Array([[0, 0, 0, ..., 5, 6, 7],\n",
       "       [0, 0, 0, ..., 5, 6, 7],\n",
       "       [0, 0, 0, ..., 5, 6, 7],\n",
       "       ...,\n",
       "       [0, 0, 0, ..., 5, 6, 7],\n",
       "       [0, 0, 0, ..., 5, 6, 7],\n",
       "       [0, 0, 0, ..., 5, 6, 7]], dtype=int32), 'hidden': Array([[[0., 0., 0., ..., 0., 0., 0.],\n",
       "        [0., 0., 0., ..., 0., 0., 0.],\n",
       "        [0., 0., 0., ..., 0., 0., 0.],\n",
       "        ...,\n",
       "        [0., 0., 0., ..., 0., 0., 0.],\n",
       "        [0., 0., 0., ..., 0., 0., 0.],\n",
       "        [0., 0., 0., ..., 0., 0., 0.]],\n",
       "\n",
       "       [[0., 0., 0., ..., 0., 0., 0.],\n",
       "        [0., 0., 0., ..., 0., 0., 0.],\n",
       "        [0., 0., 0., ..., 0., 0., 0.],\n",
       "        ...,\n",
       "        [0., 0., 0., ..., 0., 0., 0.],\n",
       "        [0., 0., 0., ..., 0., 0., 0.],\n",
       "        [0., 0., 0., ..., 0., 0., 0.]],\n",
       "\n",
       "       [[0., 0., 0., ..., 0., 0., 0.],\n",
       "        [0., 0., 0., ..., 0., 0., 0.],\n",
       "        [0., 0., 0., ..., 0., 0., 0.],\n",
       "        ...,\n",
       "        [0., 0., 0., ..., 0., 0., 0.],\n",
       "        [0., 0., 0., ..., 0., 0., 0.],\n",
       "        [0., 0., 0., ..., 0., 0., 0.]],\n",
       "\n",
       "       ...,\n",
       "\n",
       "       [[0., 0., 0., ..., 0., 0., 0.],\n",
       "        [0., 0., 0., ..., 0., 0., 0.],\n",
       "        [0., 0., 0., ..., 0., 0., 0.],\n",
       "        ...,\n",
       "        [0., 0., 0., ..., 0., 0., 0.],\n",
       "        [0., 0., 0., ..., 0., 0., 0.],\n",
       "        [0., 0., 0., ..., 0., 0., 0.]],\n",
       "\n",
       "       [[0., 0., 0., ..., 0., 0., 0.],\n",
       "        [0., 0., 0., ..., 0., 0., 0.],\n",
       "        [0., 0., 0., ..., 0., 0., 0.],\n",
       "        ...,\n",
       "        [0., 0., 0., ..., 0., 0., 0.],\n",
       "        [0., 0., 0., ..., 0., 0., 0.],\n",
       "        [0., 0., 0., ..., 0., 0., 0.]],\n",
       "\n",
       "       [[0., 0., 0., ..., 0., 0., 0.],\n",
       "        [0., 0., 0., ..., 0., 0., 0.],\n",
       "        [0., 0., 0., ..., 0., 0., 0.],\n",
       "        ...,\n",
       "        [0., 0., 0., ..., 0., 0., 0.],\n",
       "        [0., 0., 0., ..., 0., 0., 0.],\n",
       "        [0., 0., 0., ..., 0., 0., 0.]]], dtype=float32), 'intra_layer_pe': Array([[[ 0.        ,  1.        ,  0.        , ...,  1.        ,\n",
       "          0.        ,  1.        ],\n",
       "        [ 0.841471  ,  0.5403023 ,  0.80379134, ...,  0.9918871 ,\n",
       "          0.11872767,  0.99292684],\n",
       "        [ 0.90929747, -0.4161468 ,  0.95636916, ...,  0.96768   ,\n",
       "          0.23577578,  0.9718075 ],\n",
       "        ...,\n",
       "        [-0.9589243 ,  0.28366217, -0.99902403, ...,  0.80368453,\n",
       "          0.56054354,  0.82812494],\n",
       "        [-0.2794155 ,  0.96017027, -0.6298337 , ...,  0.72151965,\n",
       "          0.6549001 ,  0.75571555],\n",
       "        [ 0.6569866 ,  0.75390226,  0.24963361, ...,  0.62764746,\n",
       "          0.7399922 ,  0.67261547]],\n",
       "\n",
       "       [[ 0.        ,  1.        ,  0.        , ...,  1.        ,\n",
       "          0.        ,  1.        ],\n",
       "        [ 0.841471  ,  0.5403023 ,  0.80379134, ...,  0.9918871 ,\n",
       "          0.11872767,  0.99292684],\n",
       "        [ 0.90929747, -0.4161468 ,  0.95636916, ...,  0.96768   ,\n",
       "          0.23577578,  0.9718075 ],\n",
       "        ...,\n",
       "        [-0.9589243 ,  0.28366217, -0.99902403, ...,  0.80368453,\n",
       "          0.56054354,  0.82812494],\n",
       "        [-0.2794155 ,  0.96017027, -0.6298337 , ...,  0.72151965,\n",
       "          0.6549001 ,  0.75571555],\n",
       "        [ 0.6569866 ,  0.75390226,  0.24963361, ...,  0.62764746,\n",
       "          0.7399922 ,  0.67261547]],\n",
       "\n",
       "       [[ 0.        ,  1.        ,  0.        , ...,  1.        ,\n",
       "          0.        ,  1.        ],\n",
       "        [ 0.841471  ,  0.5403023 ,  0.80379134, ...,  0.9918871 ,\n",
       "          0.11872767,  0.99292684],\n",
       "        [ 0.90929747, -0.4161468 ,  0.95636916, ...,  0.96768   ,\n",
       "          0.23577578,  0.9718075 ],\n",
       "        ...,\n",
       "        [-0.9589243 ,  0.28366217, -0.99902403, ...,  0.80368453,\n",
       "          0.56054354,  0.82812494],\n",
       "        [-0.2794155 ,  0.96017027, -0.6298337 , ...,  0.72151965,\n",
       "          0.6549001 ,  0.75571555],\n",
       "        [ 0.6569866 ,  0.75390226,  0.24963361, ...,  0.62764746,\n",
       "          0.7399922 ,  0.67261547]],\n",
       "\n",
       "       ...,\n",
       "\n",
       "       [[ 0.        ,  1.        ,  0.        , ...,  1.        ,\n",
       "          0.        ,  1.        ],\n",
       "        [ 0.841471  ,  0.5403023 ,  0.80379134, ...,  0.9918871 ,\n",
       "          0.11872767,  0.99292684],\n",
       "        [ 0.90929747, -0.4161468 ,  0.95636916, ...,  0.96768   ,\n",
       "          0.23577578,  0.9718075 ],\n",
       "        ...,\n",
       "        [-0.9589243 ,  0.28366217, -0.99902403, ...,  0.80368453,\n",
       "          0.56054354,  0.82812494],\n",
       "        [-0.2794155 ,  0.96017027, -0.6298337 , ...,  0.72151965,\n",
       "          0.6549001 ,  0.75571555],\n",
       "        [ 0.6569866 ,  0.75390226,  0.24963361, ...,  0.62764746,\n",
       "          0.7399922 ,  0.67261547]],\n",
       "\n",
       "       [[ 0.        ,  1.        ,  0.        , ...,  1.        ,\n",
       "          0.        ,  1.        ],\n",
       "        [ 0.841471  ,  0.5403023 ,  0.80379134, ...,  0.9918871 ,\n",
       "          0.11872767,  0.99292684],\n",
       "        [ 0.90929747, -0.4161468 ,  0.95636916, ...,  0.96768   ,\n",
       "          0.23577578,  0.9718075 ],\n",
       "        ...,\n",
       "        [-0.9589243 ,  0.28366217, -0.99902403, ...,  0.80368453,\n",
       "          0.56054354,  0.82812494],\n",
       "        [-0.2794155 ,  0.96017027, -0.6298337 , ...,  0.72151965,\n",
       "          0.6549001 ,  0.75571555],\n",
       "        [ 0.6569866 ,  0.75390226,  0.24963361, ...,  0.62764746,\n",
       "          0.7399922 ,  0.67261547]],\n",
       "\n",
       "       [[ 0.        ,  1.        ,  0.        , ...,  1.        ,\n",
       "          0.        ,  1.        ],\n",
       "        [ 0.841471  ,  0.5403023 ,  0.80379134, ...,  0.9918871 ,\n",
       "          0.11872767,  0.99292684],\n",
       "        [ 0.90929747, -0.4161468 ,  0.95636916, ...,  0.96768   ,\n",
       "          0.23577578,  0.9718075 ],\n",
       "        ...,\n",
       "        [-0.9589243 ,  0.28366217, -0.99902403, ...,  0.80368453,\n",
       "          0.56054354,  0.82812494],\n",
       "        [-0.2794155 ,  0.96017027, -0.6298337 , ...,  0.72151965,\n",
       "          0.6549001 ,  0.75571555],\n",
       "        [ 0.6569866 ,  0.75390226,  0.24963361, ...,  0.62764746,\n",
       "          0.7399922 ,  0.67261547]]], dtype=float32), 'layer': Array([[0, 0, 0, ..., 5, 5, 5],\n",
       "       [0, 0, 0, ..., 5, 5, 5],\n",
       "       [0, 0, 0, ..., 5, 5, 5],\n",
       "       ...,\n",
       "       [0, 0, 0, ..., 5, 5, 5],\n",
       "       [0, 0, 0, ..., 5, 5, 5],\n",
       "       [0, 0, 0, ..., 5, 5, 5]], dtype=int32), 'layer_pe': Array([[[ 0.        ,  1.        ,  0.        , ...,  1.        ,\n",
       "          0.        ,  1.        ],\n",
       "        [ 0.        ,  1.        ,  0.        , ...,  1.        ,\n",
       "          0.        ,  1.        ],\n",
       "        [ 0.        ,  1.        ,  0.        , ...,  1.        ,\n",
       "          0.        ,  1.        ],\n",
       "        ...,\n",
       "        [-0.9589243 ,  0.28366217, -0.9998823 , ...,  0.5961653 ,\n",
       "          0.7715823 ,  0.63612956],\n",
       "        [-0.9589243 ,  0.28366217, -0.9998823 , ...,  0.5961653 ,\n",
       "          0.7715823 ,  0.63612956],\n",
       "        [-0.9589243 ,  0.28366217, -0.9998823 , ...,  0.5961653 ,\n",
       "          0.7715823 ,  0.63612956]],\n",
       "\n",
       "       [[ 0.        ,  1.        ,  0.        , ...,  1.        ,\n",
       "          0.        ,  1.        ],\n",
       "        [ 0.        ,  1.        ,  0.        , ...,  1.        ,\n",
       "          0.        ,  1.        ],\n",
       "        [ 0.        ,  1.        ,  0.        , ...,  1.        ,\n",
       "          0.        ,  1.        ],\n",
       "        ...,\n",
       "        [-0.9589243 ,  0.28366217, -0.9998823 , ...,  0.5961653 ,\n",
       "          0.7715823 ,  0.63612956],\n",
       "        [-0.9589243 ,  0.28366217, -0.9998823 , ...,  0.5961653 ,\n",
       "          0.7715823 ,  0.63612956],\n",
       "        [-0.9589243 ,  0.28366217, -0.9998823 , ...,  0.5961653 ,\n",
       "          0.7715823 ,  0.63612956]],\n",
       "\n",
       "       [[ 0.        ,  1.        ,  0.        , ...,  1.        ,\n",
       "          0.        ,  1.        ],\n",
       "        [ 0.        ,  1.        ,  0.        , ...,  1.        ,\n",
       "          0.        ,  1.        ],\n",
       "        [ 0.        ,  1.        ,  0.        , ...,  1.        ,\n",
       "          0.        ,  1.        ],\n",
       "        ...,\n",
       "        [-0.9589243 ,  0.28366217, -0.9998823 , ...,  0.5961653 ,\n",
       "          0.7715823 ,  0.63612956],\n",
       "        [-0.9589243 ,  0.28366217, -0.9998823 , ...,  0.5961653 ,\n",
       "          0.7715823 ,  0.63612956],\n",
       "        [-0.9589243 ,  0.28366217, -0.9998823 , ...,  0.5961653 ,\n",
       "          0.7715823 ,  0.63612956]],\n",
       "\n",
       "       ...,\n",
       "\n",
       "       [[ 0.        ,  1.        ,  0.        , ...,  1.        ,\n",
       "          0.        ,  1.        ],\n",
       "        [ 0.        ,  1.        ,  0.        , ...,  1.        ,\n",
       "          0.        ,  1.        ],\n",
       "        [ 0.        ,  1.        ,  0.        , ...,  1.        ,\n",
       "          0.        ,  1.        ],\n",
       "        ...,\n",
       "        [-0.9589243 ,  0.28366217, -0.9998823 , ...,  0.5961653 ,\n",
       "          0.7715823 ,  0.63612956],\n",
       "        [-0.9589243 ,  0.28366217, -0.9998823 , ...,  0.5961653 ,\n",
       "          0.7715823 ,  0.63612956],\n",
       "        [-0.9589243 ,  0.28366217, -0.9998823 , ...,  0.5961653 ,\n",
       "          0.7715823 ,  0.63612956]],\n",
       "\n",
       "       [[ 0.        ,  1.        ,  0.        , ...,  1.        ,\n",
       "          0.        ,  1.        ],\n",
       "        [ 0.        ,  1.        ,  0.        , ...,  1.        ,\n",
       "          0.        ,  1.        ],\n",
       "        [ 0.        ,  1.        ,  0.        , ...,  1.        ,\n",
       "          0.        ,  1.        ],\n",
       "        ...,\n",
       "        [-0.9589243 ,  0.28366217, -0.9998823 , ...,  0.5961653 ,\n",
       "          0.7715823 ,  0.63612956],\n",
       "        [-0.9589243 ,  0.28366217, -0.9998823 , ...,  0.5961653 ,\n",
       "          0.7715823 ,  0.63612956],\n",
       "        [-0.9589243 ,  0.28366217, -0.9998823 , ...,  0.5961653 ,\n",
       "          0.7715823 ,  0.63612956]],\n",
       "\n",
       "       [[ 0.        ,  1.        ,  0.        , ...,  1.        ,\n",
       "          0.        ,  1.        ],\n",
       "        [ 0.        ,  1.        ,  0.        , ...,  1.        ,\n",
       "          0.        ,  1.        ],\n",
       "        [ 0.        ,  1.        ,  0.        , ...,  1.        ,\n",
       "          0.        ,  1.        ],\n",
       "        ...,\n",
       "        [-0.9589243 ,  0.28366217, -0.9998823 , ...,  0.5961653 ,\n",
       "          0.7715823 ,  0.63612956],\n",
       "        [-0.9589243 ,  0.28366217, -0.9998823 , ...,  0.5961653 ,\n",
       "          0.7715823 ,  0.63612956],\n",
       "        [-0.9589243 ,  0.28366217, -0.9998823 , ...,  0.5961653 ,\n",
       "          0.7715823 ,  0.63612956]]], dtype=float32), 'logits': Array([[[ 0.,  0.,  0., ...,  0.,  0.,  0.],\n",
       "        [ 0.,  0.,  0., ...,  0.,  0.,  0.],\n",
       "        [ 0.,  0.,  0., ...,  0.,  0.,  0.],\n",
       "        ...,\n",
       "        [-3., -3.,  3., ..., -3.,  3.,  3.],\n",
       "        [-3., -3., -3., ...,  3.,  3.,  3.],\n",
       "        [-3., -3., -3., ...,  3.,  3.,  3.]],\n",
       "\n",
       "       [[ 0.,  0.,  0., ...,  0.,  0.,  0.],\n",
       "        [ 0.,  0.,  0., ...,  0.,  0.,  0.],\n",
       "        [ 0.,  0.,  0., ...,  0.,  0.,  0.],\n",
       "        ...,\n",
       "        [-3., -3.,  3., ..., -3.,  3.,  3.],\n",
       "        [-3., -3., -3., ...,  3.,  3.,  3.],\n",
       "        [-3., -3., -3., ...,  3.,  3.,  3.]],\n",
       "\n",
       "       [[ 0.,  0.,  0., ...,  0.,  0.,  0.],\n",
       "        [ 0.,  0.,  0., ...,  0.,  0.,  0.],\n",
       "        [ 0.,  0.,  0., ...,  0.,  0.,  0.],\n",
       "        ...,\n",
       "        [-3., -3.,  3., ..., -3.,  3.,  3.],\n",
       "        [-3., -3., -3., ...,  3.,  3.,  3.],\n",
       "        [-3., -3., -3., ...,  3.,  3.,  3.]],\n",
       "\n",
       "       ...,\n",
       "\n",
       "       [[ 0.,  0.,  0., ...,  0.,  0.,  0.],\n",
       "        [ 0.,  0.,  0., ...,  0.,  0.,  0.],\n",
       "        [ 0.,  0.,  0., ...,  0.,  0.,  0.],\n",
       "        ...,\n",
       "        [-3., -3.,  3., ..., -3.,  3.,  3.],\n",
       "        [-3., -3., -3., ...,  3.,  3.,  3.],\n",
       "        [-3., -3., -3., ...,  3.,  3.,  3.]],\n",
       "\n",
       "       [[ 0.,  0.,  0., ...,  0.,  0.,  0.],\n",
       "        [ 0.,  0.,  0., ...,  0.,  0.,  0.],\n",
       "        [ 0.,  0.,  0., ...,  0.,  0.,  0.],\n",
       "        ...,\n",
       "        [-3., -3.,  3., ..., -3.,  3.,  3.],\n",
       "        [-3., -3., -3., ...,  3.,  3.,  3.],\n",
       "        [-3., -3., -3., ...,  3.,  3.,  3.]],\n",
       "\n",
       "       [[ 0.,  0.,  0., ...,  0.,  0.,  0.],\n",
       "        [ 0.,  0.,  0., ...,  0.,  0.,  0.],\n",
       "        [ 0.,  0.,  0., ...,  0.,  0.,  0.],\n",
       "        ...,\n",
       "        [-3., -3.,  3., ..., -3.,  3.,  3.],\n",
       "        [-3., -3., -3., ...,  3.,  3.,  3.],\n",
       "        [-3., -3., -3., ...,  3.,  3.,  3.]]], dtype=float32)}, edges=None, receivers=Array([[  8,   8,   8, ..., 226, 204, 223],\n",
       "       [  8,   8,   8, ..., 205, 216, 229],\n",
       "       [  8,   8,   8, ..., 218, 225, 214],\n",
       "       ...,\n",
       "       [  8,   8,   8, ..., 228, 225, 216],\n",
       "       [  8,   8,   8, ..., 205, 222, 227],\n",
       "       [  8,   8,   8, ..., 208, 202, 221]], dtype=int32), senders=Array([[  1,   7,   4, ..., 239, 239, 239],\n",
       "       [  2,   1,   5, ..., 239, 239, 239],\n",
       "       [  3,   0,   1, ..., 239, 239, 239],\n",
       "       ...,\n",
       "       [  6,   1,   7, ..., 239, 239, 239],\n",
       "       [  2,   3,   2, ..., 239, 239, 239],\n",
       "       [  4,   0,   1, ..., 239, 239, 239]], dtype=int32), globals=Array([138.41388, 138.41388, 138.41388, ..., 138.41388, 138.41388,\n",
       "       138.41388], dtype=float32), n_node=Array([[240],\n",
       "       [240],\n",
       "       [240],\n",
       "       ...,\n",
       "       [240],\n",
       "       [240],\n",
       "       [240]], dtype=int32), n_edge=Array([[1856],\n",
       "       [1856],\n",
       "       [1856],\n",
       "       ...,\n",
       "       [1856],\n",
       "       [1856],\n",
       "       [1856]], dtype=int32)), wires=[Array([[[1, 3, 2, ..., 1, 3, 5],\n",
       "        [7, 5, 7, ..., 5, 2, 6],\n",
       "        [4, 3, 6, ..., 4, 0, 6],\n",
       "        [7, 1, 7, ..., 1, 7, 0]],\n",
       "\n",
       "       [[2, 0, 7, ..., 3, 4, 1],\n",
       "        [1, 4, 3, ..., 6, 1, 1],\n",
       "        [5, 5, 4, ..., 0, 4, 0],\n",
       "        [2, 7, 1, ..., 5, 3, 2]],\n",
       "\n",
       "       [[3, 4, 7, ..., 0, 1, 1],\n",
       "        [0, 3, 4, ..., 2, 4, 6],\n",
       "        [1, 4, 6, ..., 5, 2, 3],\n",
       "        [6, 7, 0, ..., 7, 1, 6]],\n",
       "\n",
       "       ...,\n",
       "\n",
       "       [[6, 2, 7, ..., 5, 1, 3],\n",
       "        [1, 0, 1, ..., 2, 0, 5],\n",
       "        [7, 3, 4, ..., 7, 3, 4],\n",
       "        [2, 3, 0, ..., 4, 6, 3]],\n",
       "\n",
       "       [[2, 7, 2, ..., 4, 1, 6],\n",
       "        [3, 1, 0, ..., 1, 3, 1],\n",
       "        [2, 4, 1, ..., 5, 0, 2],\n",
       "        [7, 4, 2, ..., 7, 7, 4]],\n",
       "\n",
       "       [[4, 6, 7, ..., 0, 2, 4],\n",
       "        [0, 3, 6, ..., 1, 5, 3],\n",
       "        [1, 6, 6, ..., 7, 6, 4],\n",
       "        [3, 3, 1, ..., 2, 0, 2]]], dtype=int32), Array([[[34, 24, 38, ...,  8, 51, 29],\n",
       "        [ 9, 52, 17, ..., 13, 11, 37],\n",
       "        [32, 28,  6, ..., 12, 27, 43],\n",
       "        [48, 47, 14, ..., 22,  7, 58]],\n",
       "\n",
       "       [[36, 31, 21, ..., 46, 44,  6],\n",
       "        [26, 27,  1, ..., 63, 59, 23],\n",
       "        [34, 18, 49, ..., 39, 40, 33],\n",
       "        [51, 61,  8, ...,  0, 42, 22]],\n",
       "\n",
       "       [[55, 45, 31, ...,  3, 61, 12],\n",
       "        [41, 14,  2, ..., 25, 26, 11],\n",
       "        [ 5,  0, 54, ..., 34, 17, 63],\n",
       "        [30,  4, 20, ...,  8, 35,  9]],\n",
       "\n",
       "       ...,\n",
       "\n",
       "       [[47, 25, 11, ..., 30, 39, 59],\n",
       "        [53, 58, 15, ..., 60, 57, 37],\n",
       "        [22, 42, 12, ..., 45, 63, 36],\n",
       "        [34, 17, 32, ..., 31, 29, 52]],\n",
       "\n",
       "       [[12,  4, 34, ..., 35, 46,  1],\n",
       "        [39,  0, 14, ..., 56, 48, 22],\n",
       "        [45, 25, 23, ..., 32, 20,  7],\n",
       "        [11, 40,  3, ..., 42, 63,  9]],\n",
       "\n",
       "       [[55,  3, 54, ..., 30, 33, 18],\n",
       "        [ 7, 40, 35, ..., 57, 37, 44],\n",
       "        [32, 10,  2, ..., 23, 34, 11],\n",
       "        [25, 15, 48, ..., 43, 49,  4]]], dtype=int32), Array([[[34, 21,  7, ..., 24, 37, 42],\n",
       "        [22, 57, 26, ...,  8, 58, 27],\n",
       "        [25, 16, 59, ..., 41, 29, 32],\n",
       "        [55,  0,  6, ..., 54, 47, 19]],\n",
       "\n",
       "       [[43,  4, 47, ..., 19, 18, 37],\n",
       "        [53, 21, 51, ..., 59, 24,  6],\n",
       "        [15, 52, 26, ..., 35, 58, 44],\n",
       "        [57,  3, 16, ..., 60, 32, 11]],\n",
       "\n",
       "       [[60, 56, 17, ..., 61, 24, 30],\n",
       "        [34, 31, 36, ..., 12, 23,  8],\n",
       "        [40, 38, 43, ...,  0, 16, 46],\n",
       "        [13, 52, 47, ...,  3, 62, 35]],\n",
       "\n",
       "       ...,\n",
       "\n",
       "       [[ 7,  1, 10, ..., 61, 34, 18],\n",
       "        [29, 11,  2, ...,  8, 48, 17],\n",
       "        [56, 26, 54, ..., 43, 15, 22],\n",
       "        [ 4, 13, 12, ..., 39, 58, 24]],\n",
       "\n",
       "       [[40, 25, 39, ..., 45, 34,  7],\n",
       "        [44,  5, 43, ..., 37, 62, 17],\n",
       "        [28, 26, 52, ..., 29, 38, 51],\n",
       "        [61, 23, 46, ...,  9, 36,  2]],\n",
       "\n",
       "       [[50, 12,  8, ..., 11, 53, 51],\n",
       "        [45, 61, 26, ..., 32, 36, 56],\n",
       "        [33, 35, 21, ..., 24, 27, 60],\n",
       "        [17, 10, 16, ...,  9, 25,  2]]], dtype=int32), Array([[[ 6, 51, 47, ..., 46, 25, 20],\n",
       "        [29, 23, 49, ..., 12,  7, 57],\n",
       "        [48, 30,  9, ..., 56, 42, 44],\n",
       "        [ 0, 38, 26, ..., 55,  5, 62]],\n",
       "\n",
       "       [[10, 13, 52, ...,  4, 22, 18],\n",
       "        [53,  1, 35, ...,  8, 23, 20],\n",
       "        [55, 16, 62, ...,  7, 27, 57],\n",
       "        [40, 24, 63, ..., 31, 43,  0]],\n",
       "\n",
       "       [[34, 42,  3, ..., 19, 18, 60],\n",
       "        [51, 32, 24, ..., 41, 55, 43],\n",
       "        [31,  5, 23, ..., 40, 14, 61],\n",
       "        [15, 63,  9, ..., 54,  7, 39]],\n",
       "\n",
       "       ...,\n",
       "\n",
       "       [[63, 41, 62, ...,  7, 32, 60],\n",
       "        [13, 19, 28, ..., 40, 56, 25],\n",
       "        [31, 17, 15, ..., 34, 23, 29],\n",
       "        [ 1, 10,  0, ..., 59, 38, 30]],\n",
       "\n",
       "       [[ 6, 13,  4, ..., 58, 18, 48],\n",
       "        [ 3, 50, 44, ..., 61, 57, 38],\n",
       "        [25, 32, 17, ..., 35, 53, 15],\n",
       "        [ 9, 54, 24, ..., 12, 33, 26]],\n",
       "\n",
       "       [[25, 27, 12, ..., 21, 47,  7],\n",
       "        [58, 37, 44, ...,  0, 30,  1],\n",
       "        [29, 23, 51, ..., 56, 34, 57],\n",
       "        [ 6,  9, 17, ..., 45,  5, 32]]], dtype=int32), Array([[[ 7, 10, 25, ...,  6, 27, 14],\n",
       "        [18, 28,  3, ..., 11, 19, 26],\n",
       "        [ 5,  9, 21, ...,  8, 31,  4],\n",
       "        [29,  1, 13, ..., 22, 16, 23]],\n",
       "\n",
       "       [[ 8, 27, 14, ..., 10, 30, 12],\n",
       "        [31, 18, 15, ..., 13, 24,  5],\n",
       "        [26,  0,  4, ..., 20,  7, 16],\n",
       "        [17,  6, 21, ..., 19,  2, 29]],\n",
       "\n",
       "       [[20,  6,  7, ..., 11, 16,  1],\n",
       "        [ 3, 15, 23, ..., 10, 12, 18],\n",
       "        [19, 13, 28, ..., 27,  8, 25],\n",
       "        [31, 22,  2, ..., 26, 21, 14]],\n",
       "\n",
       "       ...,\n",
       "\n",
       "       [[22,  1, 20, ...,  4, 14, 23],\n",
       "        [31,  8, 10, ..., 26, 30, 28],\n",
       "        [ 2, 13, 11, ...,  7, 19, 25],\n",
       "        [ 5, 21,  0, ..., 12, 24, 16]],\n",
       "\n",
       "       [[25,  1, 28, ..., 13, 26,  3],\n",
       "        [24, 12,  2, ..., 19, 16,  5],\n",
       "        [ 0, 18,  7, ...,  9, 11, 22],\n",
       "        [30, 15,  6, ..., 20, 23, 27]],\n",
       "\n",
       "       [[12, 19, 13, ...,  0,  7, 17],\n",
       "        [24, 27, 25, ...,  1,  9,  8],\n",
       "        [10, 22, 28, ..., 30,  4,  2],\n",
       "        [ 5, 11, 16, ..., 18,  6, 21]]], dtype=int32)], logits=[Array([[[[-3.,  3., -3., ...,  3., -3.,  3.],\n",
       "         [-3., -3.,  3., ..., -3.,  3.,  3.],\n",
       "         [-3., -3., -3., ...,  3.,  3.,  3.],\n",
       "         [-3., -3., -3., ...,  3.,  3.,  3.]],\n",
       "\n",
       "        [[-3.,  3., -3., ...,  3., -3.,  3.],\n",
       "         [-3., -3.,  3., ..., -3.,  3.,  3.],\n",
       "         [-3., -3., -3., ...,  3.,  3.,  3.],\n",
       "         [-3., -3., -3., ...,  3.,  3.,  3.]],\n",
       "\n",
       "        [[-3.,  3., -3., ...,  3., -3.,  3.],\n",
       "         [-3., -3.,  3., ..., -3.,  3.,  3.],\n",
       "         [-3., -3., -3., ...,  3.,  3.,  3.],\n",
       "         [-3., -3., -3., ...,  3.,  3.,  3.]],\n",
       "\n",
       "        ...,\n",
       "\n",
       "        [[-3.,  3., -3., ...,  3., -3.,  3.],\n",
       "         [-3., -3.,  3., ..., -3.,  3.,  3.],\n",
       "         [-3., -3., -3., ...,  3.,  3.,  3.],\n",
       "         [-3., -3., -3., ...,  3.,  3.,  3.]],\n",
       "\n",
       "        [[-3.,  3., -3., ...,  3., -3.,  3.],\n",
       "         [-3., -3.,  3., ..., -3.,  3.,  3.],\n",
       "         [-3., -3., -3., ...,  3.,  3.,  3.],\n",
       "         [-3., -3., -3., ...,  3.,  3.,  3.]],\n",
       "\n",
       "        [[-3.,  3., -3., ...,  3., -3.,  3.],\n",
       "         [-3., -3.,  3., ..., -3.,  3.,  3.],\n",
       "         [-3., -3., -3., ...,  3.,  3.,  3.],\n",
       "         [-3., -3., -3., ...,  3.,  3.,  3.]]],\n",
       "\n",
       "\n",
       "       [[[-3.,  3., -3., ...,  3., -3.,  3.],\n",
       "         [-3., -3.,  3., ..., -3.,  3.,  3.],\n",
       "         [-3., -3., -3., ...,  3.,  3.,  3.],\n",
       "         [-3., -3., -3., ...,  3.,  3.,  3.]],\n",
       "\n",
       "        [[-3.,  3., -3., ...,  3., -3.,  3.],\n",
       "         [-3., -3.,  3., ..., -3.,  3.,  3.],\n",
       "         [-3., -3., -3., ...,  3.,  3.,  3.],\n",
       "         [-3., -3., -3., ...,  3.,  3.,  3.]],\n",
       "\n",
       "        [[-3.,  3., -3., ...,  3., -3.,  3.],\n",
       "         [-3., -3.,  3., ..., -3.,  3.,  3.],\n",
       "         [-3., -3., -3., ...,  3.,  3.,  3.],\n",
       "         [-3., -3., -3., ...,  3.,  3.,  3.]],\n",
       "\n",
       "        ...,\n",
       "\n",
       "        [[-3.,  3., -3., ...,  3., -3.,  3.],\n",
       "         [-3., -3.,  3., ..., -3.,  3.,  3.],\n",
       "         [-3., -3., -3., ...,  3.,  3.,  3.],\n",
       "         [-3., -3., -3., ...,  3.,  3.,  3.]],\n",
       "\n",
       "        [[-3.,  3., -3., ...,  3., -3.,  3.],\n",
       "         [-3., -3.,  3., ..., -3.,  3.,  3.],\n",
       "         [-3., -3., -3., ...,  3.,  3.,  3.],\n",
       "         [-3., -3., -3., ...,  3.,  3.,  3.]],\n",
       "\n",
       "        [[-3.,  3., -3., ...,  3., -3.,  3.],\n",
       "         [-3., -3.,  3., ..., -3.,  3.,  3.],\n",
       "         [-3., -3., -3., ...,  3.,  3.,  3.],\n",
       "         [-3., -3., -3., ...,  3.,  3.,  3.]]],\n",
       "\n",
       "\n",
       "       [[[-3.,  3., -3., ...,  3., -3.,  3.],\n",
       "         [-3., -3.,  3., ..., -3.,  3.,  3.],\n",
       "         [-3., -3., -3., ...,  3.,  3.,  3.],\n",
       "         [-3., -3., -3., ...,  3.,  3.,  3.]],\n",
       "\n",
       "        [[-3.,  3., -3., ...,  3., -3.,  3.],\n",
       "         [-3., -3.,  3., ..., -3.,  3.,  3.],\n",
       "         [-3., -3., -3., ...,  3.,  3.,  3.],\n",
       "         [-3., -3., -3., ...,  3.,  3.,  3.]],\n",
       "\n",
       "        [[-3.,  3., -3., ...,  3., -3.,  3.],\n",
       "         [-3., -3.,  3., ..., -3.,  3.,  3.],\n",
       "         [-3., -3., -3., ...,  3.,  3.,  3.],\n",
       "         [-3., -3., -3., ...,  3.,  3.,  3.]],\n",
       "\n",
       "        ...,\n",
       "\n",
       "        [[-3.,  3., -3., ...,  3., -3.,  3.],\n",
       "         [-3., -3.,  3., ..., -3.,  3.,  3.],\n",
       "         [-3., -3., -3., ...,  3.,  3.,  3.],\n",
       "         [-3., -3., -3., ...,  3.,  3.,  3.]],\n",
       "\n",
       "        [[-3.,  3., -3., ...,  3., -3.,  3.],\n",
       "         [-3., -3.,  3., ..., -3.,  3.,  3.],\n",
       "         [-3., -3., -3., ...,  3.,  3.,  3.],\n",
       "         [-3., -3., -3., ...,  3.,  3.,  3.]],\n",
       "\n",
       "        [[-3.,  3., -3., ...,  3., -3.,  3.],\n",
       "         [-3., -3.,  3., ..., -3.,  3.,  3.],\n",
       "         [-3., -3., -3., ...,  3.,  3.,  3.],\n",
       "         [-3., -3., -3., ...,  3.,  3.,  3.]]],\n",
       "\n",
       "\n",
       "       ...,\n",
       "\n",
       "\n",
       "       [[[-3.,  3., -3., ...,  3., -3.,  3.],\n",
       "         [-3., -3.,  3., ..., -3.,  3.,  3.],\n",
       "         [-3., -3., -3., ...,  3.,  3.,  3.],\n",
       "         [-3., -3., -3., ...,  3.,  3.,  3.]],\n",
       "\n",
       "        [[-3.,  3., -3., ...,  3., -3.,  3.],\n",
       "         [-3., -3.,  3., ..., -3.,  3.,  3.],\n",
       "         [-3., -3., -3., ...,  3.,  3.,  3.],\n",
       "         [-3., -3., -3., ...,  3.,  3.,  3.]],\n",
       "\n",
       "        [[-3.,  3., -3., ...,  3., -3.,  3.],\n",
       "         [-3., -3.,  3., ..., -3.,  3.,  3.],\n",
       "         [-3., -3., -3., ...,  3.,  3.,  3.],\n",
       "         [-3., -3., -3., ...,  3.,  3.,  3.]],\n",
       "\n",
       "        ...,\n",
       "\n",
       "        [[-3.,  3., -3., ...,  3., -3.,  3.],\n",
       "         [-3., -3.,  3., ..., -3.,  3.,  3.],\n",
       "         [-3., -3., -3., ...,  3.,  3.,  3.],\n",
       "         [-3., -3., -3., ...,  3.,  3.,  3.]],\n",
       "\n",
       "        [[-3.,  3., -3., ...,  3., -3.,  3.],\n",
       "         [-3., -3.,  3., ..., -3.,  3.,  3.],\n",
       "         [-3., -3., -3., ...,  3.,  3.,  3.],\n",
       "         [-3., -3., -3., ...,  3.,  3.,  3.]],\n",
       "\n",
       "        [[-3.,  3., -3., ...,  3., -3.,  3.],\n",
       "         [-3., -3.,  3., ..., -3.,  3.,  3.],\n",
       "         [-3., -3., -3., ...,  3.,  3.,  3.],\n",
       "         [-3., -3., -3., ...,  3.,  3.,  3.]]],\n",
       "\n",
       "\n",
       "       [[[-3.,  3., -3., ...,  3., -3.,  3.],\n",
       "         [-3., -3.,  3., ..., -3.,  3.,  3.],\n",
       "         [-3., -3., -3., ...,  3.,  3.,  3.],\n",
       "         [-3., -3., -3., ...,  3.,  3.,  3.]],\n",
       "\n",
       "        [[-3.,  3., -3., ...,  3., -3.,  3.],\n",
       "         [-3., -3.,  3., ..., -3.,  3.,  3.],\n",
       "         [-3., -3., -3., ...,  3.,  3.,  3.],\n",
       "         [-3., -3., -3., ...,  3.,  3.,  3.]],\n",
       "\n",
       "        [[-3.,  3., -3., ...,  3., -3.,  3.],\n",
       "         [-3., -3.,  3., ..., -3.,  3.,  3.],\n",
       "         [-3., -3., -3., ...,  3.,  3.,  3.],\n",
       "         [-3., -3., -3., ...,  3.,  3.,  3.]],\n",
       "\n",
       "        ...,\n",
       "\n",
       "        [[-3.,  3., -3., ...,  3., -3.,  3.],\n",
       "         [-3., -3.,  3., ..., -3.,  3.,  3.],\n",
       "         [-3., -3., -3., ...,  3.,  3.,  3.],\n",
       "         [-3., -3., -3., ...,  3.,  3.,  3.]],\n",
       "\n",
       "        [[-3.,  3., -3., ...,  3., -3.,  3.],\n",
       "         [-3., -3.,  3., ..., -3.,  3.,  3.],\n",
       "         [-3., -3., -3., ...,  3.,  3.,  3.],\n",
       "         [-3., -3., -3., ...,  3.,  3.,  3.]],\n",
       "\n",
       "        [[-3.,  3., -3., ...,  3., -3.,  3.],\n",
       "         [-3., -3.,  3., ..., -3.,  3.,  3.],\n",
       "         [-3., -3., -3., ...,  3.,  3.,  3.],\n",
       "         [-3., -3., -3., ...,  3.,  3.,  3.]]],\n",
       "\n",
       "\n",
       "       [[[-3.,  3., -3., ...,  3., -3.,  3.],\n",
       "         [-3., -3.,  3., ..., -3.,  3.,  3.],\n",
       "         [-3., -3., -3., ...,  3.,  3.,  3.],\n",
       "         [-3., -3., -3., ...,  3.,  3.,  3.]],\n",
       "\n",
       "        [[-3.,  3., -3., ...,  3., -3.,  3.],\n",
       "         [-3., -3.,  3., ..., -3.,  3.,  3.],\n",
       "         [-3., -3., -3., ...,  3.,  3.,  3.],\n",
       "         [-3., -3., -3., ...,  3.,  3.,  3.]],\n",
       "\n",
       "        [[-3.,  3., -3., ...,  3., -3.,  3.],\n",
       "         [-3., -3.,  3., ..., -3.,  3.,  3.],\n",
       "         [-3., -3., -3., ...,  3.,  3.,  3.],\n",
       "         [-3., -3., -3., ...,  3.,  3.,  3.]],\n",
       "\n",
       "        ...,\n",
       "\n",
       "        [[-3.,  3., -3., ...,  3., -3.,  3.],\n",
       "         [-3., -3.,  3., ..., -3.,  3.,  3.],\n",
       "         [-3., -3., -3., ...,  3.,  3.,  3.],\n",
       "         [-3., -3., -3., ...,  3.,  3.,  3.]],\n",
       "\n",
       "        [[-3.,  3., -3., ...,  3., -3.,  3.],\n",
       "         [-3., -3.,  3., ..., -3.,  3.,  3.],\n",
       "         [-3., -3., -3., ...,  3.,  3.,  3.],\n",
       "         [-3., -3., -3., ...,  3.,  3.,  3.]],\n",
       "\n",
       "        [[-3.,  3., -3., ...,  3., -3.,  3.],\n",
       "         [-3., -3.,  3., ..., -3.,  3.,  3.],\n",
       "         [-3., -3., -3., ...,  3.,  3.,  3.],\n",
       "         [-3., -3., -3., ...,  3.,  3.,  3.]]]],      dtype=float32, weak_type=True), Array([[[[-3.,  3., -3., ...,  3., -3.,  3.],\n",
       "         [-3., -3.,  3., ..., -3.,  3.,  3.],\n",
       "         [-3., -3., -3., ...,  3.,  3.,  3.],\n",
       "         [-3., -3., -3., ...,  3.,  3.,  3.]],\n",
       "\n",
       "        [[-3.,  3., -3., ...,  3., -3.,  3.],\n",
       "         [-3., -3.,  3., ..., -3.,  3.,  3.],\n",
       "         [-3., -3., -3., ...,  3.,  3.,  3.],\n",
       "         [-3., -3., -3., ...,  3.,  3.,  3.]],\n",
       "\n",
       "        [[-3.,  3., -3., ...,  3., -3.,  3.],\n",
       "         [-3., -3.,  3., ..., -3.,  3.,  3.],\n",
       "         [-3., -3., -3., ...,  3.,  3.,  3.],\n",
       "         [-3., -3., -3., ...,  3.,  3.,  3.]],\n",
       "\n",
       "        ...,\n",
       "\n",
       "        [[-3.,  3., -3., ...,  3., -3.,  3.],\n",
       "         [-3., -3.,  3., ..., -3.,  3.,  3.],\n",
       "         [-3., -3., -3., ...,  3.,  3.,  3.],\n",
       "         [-3., -3., -3., ...,  3.,  3.,  3.]],\n",
       "\n",
       "        [[-3.,  3., -3., ...,  3., -3.,  3.],\n",
       "         [-3., -3.,  3., ..., -3.,  3.,  3.],\n",
       "         [-3., -3., -3., ...,  3.,  3.,  3.],\n",
       "         [-3., -3., -3., ...,  3.,  3.,  3.]],\n",
       "\n",
       "        [[-3.,  3., -3., ...,  3., -3.,  3.],\n",
       "         [-3., -3.,  3., ..., -3.,  3.,  3.],\n",
       "         [-3., -3., -3., ...,  3.,  3.,  3.],\n",
       "         [-3., -3., -3., ...,  3.,  3.,  3.]]],\n",
       "\n",
       "\n",
       "       [[[-3.,  3., -3., ...,  3., -3.,  3.],\n",
       "         [-3., -3.,  3., ..., -3.,  3.,  3.],\n",
       "         [-3., -3., -3., ...,  3.,  3.,  3.],\n",
       "         [-3., -3., -3., ...,  3.,  3.,  3.]],\n",
       "\n",
       "        [[-3.,  3., -3., ...,  3., -3.,  3.],\n",
       "         [-3., -3.,  3., ..., -3.,  3.,  3.],\n",
       "         [-3., -3., -3., ...,  3.,  3.,  3.],\n",
       "         [-3., -3., -3., ...,  3.,  3.,  3.]],\n",
       "\n",
       "        [[-3.,  3., -3., ...,  3., -3.,  3.],\n",
       "         [-3., -3.,  3., ..., -3.,  3.,  3.],\n",
       "         [-3., -3., -3., ...,  3.,  3.,  3.],\n",
       "         [-3., -3., -3., ...,  3.,  3.,  3.]],\n",
       "\n",
       "        ...,\n",
       "\n",
       "        [[-3.,  3., -3., ...,  3., -3.,  3.],\n",
       "         [-3., -3.,  3., ..., -3.,  3.,  3.],\n",
       "         [-3., -3., -3., ...,  3.,  3.,  3.],\n",
       "         [-3., -3., -3., ...,  3.,  3.,  3.]],\n",
       "\n",
       "        [[-3.,  3., -3., ...,  3., -3.,  3.],\n",
       "         [-3., -3.,  3., ..., -3.,  3.,  3.],\n",
       "         [-3., -3., -3., ...,  3.,  3.,  3.],\n",
       "         [-3., -3., -3., ...,  3.,  3.,  3.]],\n",
       "\n",
       "        [[-3.,  3., -3., ...,  3., -3.,  3.],\n",
       "         [-3., -3.,  3., ..., -3.,  3.,  3.],\n",
       "         [-3., -3., -3., ...,  3.,  3.,  3.],\n",
       "         [-3., -3., -3., ...,  3.,  3.,  3.]]],\n",
       "\n",
       "\n",
       "       [[[-3.,  3., -3., ...,  3., -3.,  3.],\n",
       "         [-3., -3.,  3., ..., -3.,  3.,  3.],\n",
       "         [-3., -3., -3., ...,  3.,  3.,  3.],\n",
       "         [-3., -3., -3., ...,  3.,  3.,  3.]],\n",
       "\n",
       "        [[-3.,  3., -3., ...,  3., -3.,  3.],\n",
       "         [-3., -3.,  3., ..., -3.,  3.,  3.],\n",
       "         [-3., -3., -3., ...,  3.,  3.,  3.],\n",
       "         [-3., -3., -3., ...,  3.,  3.,  3.]],\n",
       "\n",
       "        [[-3.,  3., -3., ...,  3., -3.,  3.],\n",
       "         [-3., -3.,  3., ..., -3.,  3.,  3.],\n",
       "         [-3., -3., -3., ...,  3.,  3.,  3.],\n",
       "         [-3., -3., -3., ...,  3.,  3.,  3.]],\n",
       "\n",
       "        ...,\n",
       "\n",
       "        [[-3.,  3., -3., ...,  3., -3.,  3.],\n",
       "         [-3., -3.,  3., ..., -3.,  3.,  3.],\n",
       "         [-3., -3., -3., ...,  3.,  3.,  3.],\n",
       "         [-3., -3., -3., ...,  3.,  3.,  3.]],\n",
       "\n",
       "        [[-3.,  3., -3., ...,  3., -3.,  3.],\n",
       "         [-3., -3.,  3., ..., -3.,  3.,  3.],\n",
       "         [-3., -3., -3., ...,  3.,  3.,  3.],\n",
       "         [-3., -3., -3., ...,  3.,  3.,  3.]],\n",
       "\n",
       "        [[-3.,  3., -3., ...,  3., -3.,  3.],\n",
       "         [-3., -3.,  3., ..., -3.,  3.,  3.],\n",
       "         [-3., -3., -3., ...,  3.,  3.,  3.],\n",
       "         [-3., -3., -3., ...,  3.,  3.,  3.]]],\n",
       "\n",
       "\n",
       "       ...,\n",
       "\n",
       "\n",
       "       [[[-3.,  3., -3., ...,  3., -3.,  3.],\n",
       "         [-3., -3.,  3., ..., -3.,  3.,  3.],\n",
       "         [-3., -3., -3., ...,  3.,  3.,  3.],\n",
       "         [-3., -3., -3., ...,  3.,  3.,  3.]],\n",
       "\n",
       "        [[-3.,  3., -3., ...,  3., -3.,  3.],\n",
       "         [-3., -3.,  3., ..., -3.,  3.,  3.],\n",
       "         [-3., -3., -3., ...,  3.,  3.,  3.],\n",
       "         [-3., -3., -3., ...,  3.,  3.,  3.]],\n",
       "\n",
       "        [[-3.,  3., -3., ...,  3., -3.,  3.],\n",
       "         [-3., -3.,  3., ..., -3.,  3.,  3.],\n",
       "         [-3., -3., -3., ...,  3.,  3.,  3.],\n",
       "         [-3., -3., -3., ...,  3.,  3.,  3.]],\n",
       "\n",
       "        ...,\n",
       "\n",
       "        [[-3.,  3., -3., ...,  3., -3.,  3.],\n",
       "         [-3., -3.,  3., ..., -3.,  3.,  3.],\n",
       "         [-3., -3., -3., ...,  3.,  3.,  3.],\n",
       "         [-3., -3., -3., ...,  3.,  3.,  3.]],\n",
       "\n",
       "        [[-3.,  3., -3., ...,  3., -3.,  3.],\n",
       "         [-3., -3.,  3., ..., -3.,  3.,  3.],\n",
       "         [-3., -3., -3., ...,  3.,  3.,  3.],\n",
       "         [-3., -3., -3., ...,  3.,  3.,  3.]],\n",
       "\n",
       "        [[-3.,  3., -3., ...,  3., -3.,  3.],\n",
       "         [-3., -3.,  3., ..., -3.,  3.,  3.],\n",
       "         [-3., -3., -3., ...,  3.,  3.,  3.],\n",
       "         [-3., -3., -3., ...,  3.,  3.,  3.]]],\n",
       "\n",
       "\n",
       "       [[[-3.,  3., -3., ...,  3., -3.,  3.],\n",
       "         [-3., -3.,  3., ..., -3.,  3.,  3.],\n",
       "         [-3., -3., -3., ...,  3.,  3.,  3.],\n",
       "         [-3., -3., -3., ...,  3.,  3.,  3.]],\n",
       "\n",
       "        [[-3.,  3., -3., ...,  3., -3.,  3.],\n",
       "         [-3., -3.,  3., ..., -3.,  3.,  3.],\n",
       "         [-3., -3., -3., ...,  3.,  3.,  3.],\n",
       "         [-3., -3., -3., ...,  3.,  3.,  3.]],\n",
       "\n",
       "        [[-3.,  3., -3., ...,  3., -3.,  3.],\n",
       "         [-3., -3.,  3., ..., -3.,  3.,  3.],\n",
       "         [-3., -3., -3., ...,  3.,  3.,  3.],\n",
       "         [-3., -3., -3., ...,  3.,  3.,  3.]],\n",
       "\n",
       "        ...,\n",
       "\n",
       "        [[-3.,  3., -3., ...,  3., -3.,  3.],\n",
       "         [-3., -3.,  3., ..., -3.,  3.,  3.],\n",
       "         [-3., -3., -3., ...,  3.,  3.,  3.],\n",
       "         [-3., -3., -3., ...,  3.,  3.,  3.]],\n",
       "\n",
       "        [[-3.,  3., -3., ...,  3., -3.,  3.],\n",
       "         [-3., -3.,  3., ..., -3.,  3.,  3.],\n",
       "         [-3., -3., -3., ...,  3.,  3.,  3.],\n",
       "         [-3., -3., -3., ...,  3.,  3.,  3.]],\n",
       "\n",
       "        [[-3.,  3., -3., ...,  3., -3.,  3.],\n",
       "         [-3., -3.,  3., ..., -3.,  3.,  3.],\n",
       "         [-3., -3., -3., ...,  3.,  3.,  3.],\n",
       "         [-3., -3., -3., ...,  3.,  3.,  3.]]],\n",
       "\n",
       "\n",
       "       [[[-3.,  3., -3., ...,  3., -3.,  3.],\n",
       "         [-3., -3.,  3., ..., -3.,  3.,  3.],\n",
       "         [-3., -3., -3., ...,  3.,  3.,  3.],\n",
       "         [-3., -3., -3., ...,  3.,  3.,  3.]],\n",
       "\n",
       "        [[-3.,  3., -3., ...,  3., -3.,  3.],\n",
       "         [-3., -3.,  3., ..., -3.,  3.,  3.],\n",
       "         [-3., -3., -3., ...,  3.,  3.,  3.],\n",
       "         [-3., -3., -3., ...,  3.,  3.,  3.]],\n",
       "\n",
       "        [[-3.,  3., -3., ...,  3., -3.,  3.],\n",
       "         [-3., -3.,  3., ..., -3.,  3.,  3.],\n",
       "         [-3., -3., -3., ...,  3.,  3.,  3.],\n",
       "         [-3., -3., -3., ...,  3.,  3.,  3.]],\n",
       "\n",
       "        ...,\n",
       "\n",
       "        [[-3.,  3., -3., ...,  3., -3.,  3.],\n",
       "         [-3., -3.,  3., ..., -3.,  3.,  3.],\n",
       "         [-3., -3., -3., ...,  3.,  3.,  3.],\n",
       "         [-3., -3., -3., ...,  3.,  3.,  3.]],\n",
       "\n",
       "        [[-3.,  3., -3., ...,  3., -3.,  3.],\n",
       "         [-3., -3.,  3., ..., -3.,  3.,  3.],\n",
       "         [-3., -3., -3., ...,  3.,  3.,  3.],\n",
       "         [-3., -3., -3., ...,  3.,  3.,  3.]],\n",
       "\n",
       "        [[-3.,  3., -3., ...,  3., -3.,  3.],\n",
       "         [-3., -3.,  3., ..., -3.,  3.,  3.],\n",
       "         [-3., -3., -3., ...,  3.,  3.,  3.],\n",
       "         [-3., -3., -3., ...,  3.,  3.,  3.]]]],      dtype=float32, weak_type=True), Array([[[[-3.,  3., -3., ...,  3., -3.,  3.],\n",
       "         [-3., -3.,  3., ..., -3.,  3.,  3.],\n",
       "         [-3., -3., -3., ...,  3.,  3.,  3.],\n",
       "         [-3., -3., -3., ...,  3.,  3.,  3.]],\n",
       "\n",
       "        [[-3.,  3., -3., ...,  3., -3.,  3.],\n",
       "         [-3., -3.,  3., ..., -3.,  3.,  3.],\n",
       "         [-3., -3., -3., ...,  3.,  3.,  3.],\n",
       "         [-3., -3., -3., ...,  3.,  3.,  3.]],\n",
       "\n",
       "        [[-3.,  3., -3., ...,  3., -3.,  3.],\n",
       "         [-3., -3.,  3., ..., -3.,  3.,  3.],\n",
       "         [-3., -3., -3., ...,  3.,  3.,  3.],\n",
       "         [-3., -3., -3., ...,  3.,  3.,  3.]],\n",
       "\n",
       "        ...,\n",
       "\n",
       "        [[-3.,  3., -3., ...,  3., -3.,  3.],\n",
       "         [-3., -3.,  3., ..., -3.,  3.,  3.],\n",
       "         [-3., -3., -3., ...,  3.,  3.,  3.],\n",
       "         [-3., -3., -3., ...,  3.,  3.,  3.]],\n",
       "\n",
       "        [[-3.,  3., -3., ...,  3., -3.,  3.],\n",
       "         [-3., -3.,  3., ..., -3.,  3.,  3.],\n",
       "         [-3., -3., -3., ...,  3.,  3.,  3.],\n",
       "         [-3., -3., -3., ...,  3.,  3.,  3.]],\n",
       "\n",
       "        [[-3.,  3., -3., ...,  3., -3.,  3.],\n",
       "         [-3., -3.,  3., ..., -3.,  3.,  3.],\n",
       "         [-3., -3., -3., ...,  3.,  3.,  3.],\n",
       "         [-3., -3., -3., ...,  3.,  3.,  3.]]],\n",
       "\n",
       "\n",
       "       [[[-3.,  3., -3., ...,  3., -3.,  3.],\n",
       "         [-3., -3.,  3., ..., -3.,  3.,  3.],\n",
       "         [-3., -3., -3., ...,  3.,  3.,  3.],\n",
       "         [-3., -3., -3., ...,  3.,  3.,  3.]],\n",
       "\n",
       "        [[-3.,  3., -3., ...,  3., -3.,  3.],\n",
       "         [-3., -3.,  3., ..., -3.,  3.,  3.],\n",
       "         [-3., -3., -3., ...,  3.,  3.,  3.],\n",
       "         [-3., -3., -3., ...,  3.,  3.,  3.]],\n",
       "\n",
       "        [[-3.,  3., -3., ...,  3., -3.,  3.],\n",
       "         [-3., -3.,  3., ..., -3.,  3.,  3.],\n",
       "         [-3., -3., -3., ...,  3.,  3.,  3.],\n",
       "         [-3., -3., -3., ...,  3.,  3.,  3.]],\n",
       "\n",
       "        ...,\n",
       "\n",
       "        [[-3.,  3., -3., ...,  3., -3.,  3.],\n",
       "         [-3., -3.,  3., ..., -3.,  3.,  3.],\n",
       "         [-3., -3., -3., ...,  3.,  3.,  3.],\n",
       "         [-3., -3., -3., ...,  3.,  3.,  3.]],\n",
       "\n",
       "        [[-3.,  3., -3., ...,  3., -3.,  3.],\n",
       "         [-3., -3.,  3., ..., -3.,  3.,  3.],\n",
       "         [-3., -3., -3., ...,  3.,  3.,  3.],\n",
       "         [-3., -3., -3., ...,  3.,  3.,  3.]],\n",
       "\n",
       "        [[-3.,  3., -3., ...,  3., -3.,  3.],\n",
       "         [-3., -3.,  3., ..., -3.,  3.,  3.],\n",
       "         [-3., -3., -3., ...,  3.,  3.,  3.],\n",
       "         [-3., -3., -3., ...,  3.,  3.,  3.]]],\n",
       "\n",
       "\n",
       "       [[[-3.,  3., -3., ...,  3., -3.,  3.],\n",
       "         [-3., -3.,  3., ..., -3.,  3.,  3.],\n",
       "         [-3., -3., -3., ...,  3.,  3.,  3.],\n",
       "         [-3., -3., -3., ...,  3.,  3.,  3.]],\n",
       "\n",
       "        [[-3.,  3., -3., ...,  3., -3.,  3.],\n",
       "         [-3., -3.,  3., ..., -3.,  3.,  3.],\n",
       "         [-3., -3., -3., ...,  3.,  3.,  3.],\n",
       "         [-3., -3., -3., ...,  3.,  3.,  3.]],\n",
       "\n",
       "        [[-3.,  3., -3., ...,  3., -3.,  3.],\n",
       "         [-3., -3.,  3., ..., -3.,  3.,  3.],\n",
       "         [-3., -3., -3., ...,  3.,  3.,  3.],\n",
       "         [-3., -3., -3., ...,  3.,  3.,  3.]],\n",
       "\n",
       "        ...,\n",
       "\n",
       "        [[-3.,  3., -3., ...,  3., -3.,  3.],\n",
       "         [-3., -3.,  3., ..., -3.,  3.,  3.],\n",
       "         [-3., -3., -3., ...,  3.,  3.,  3.],\n",
       "         [-3., -3., -3., ...,  3.,  3.,  3.]],\n",
       "\n",
       "        [[-3.,  3., -3., ...,  3., -3.,  3.],\n",
       "         [-3., -3.,  3., ..., -3.,  3.,  3.],\n",
       "         [-3., -3., -3., ...,  3.,  3.,  3.],\n",
       "         [-3., -3., -3., ...,  3.,  3.,  3.]],\n",
       "\n",
       "        [[-3.,  3., -3., ...,  3., -3.,  3.],\n",
       "         [-3., -3.,  3., ..., -3.,  3.,  3.],\n",
       "         [-3., -3., -3., ...,  3.,  3.,  3.],\n",
       "         [-3., -3., -3., ...,  3.,  3.,  3.]]],\n",
       "\n",
       "\n",
       "       ...,\n",
       "\n",
       "\n",
       "       [[[-3.,  3., -3., ...,  3., -3.,  3.],\n",
       "         [-3., -3.,  3., ..., -3.,  3.,  3.],\n",
       "         [-3., -3., -3., ...,  3.,  3.,  3.],\n",
       "         [-3., -3., -3., ...,  3.,  3.,  3.]],\n",
       "\n",
       "        [[-3.,  3., -3., ...,  3., -3.,  3.],\n",
       "         [-3., -3.,  3., ..., -3.,  3.,  3.],\n",
       "         [-3., -3., -3., ...,  3.,  3.,  3.],\n",
       "         [-3., -3., -3., ...,  3.,  3.,  3.]],\n",
       "\n",
       "        [[-3.,  3., -3., ...,  3., -3.,  3.],\n",
       "         [-3., -3.,  3., ..., -3.,  3.,  3.],\n",
       "         [-3., -3., -3., ...,  3.,  3.,  3.],\n",
       "         [-3., -3., -3., ...,  3.,  3.,  3.]],\n",
       "\n",
       "        ...,\n",
       "\n",
       "        [[-3.,  3., -3., ...,  3., -3.,  3.],\n",
       "         [-3., -3.,  3., ..., -3.,  3.,  3.],\n",
       "         [-3., -3., -3., ...,  3.,  3.,  3.],\n",
       "         [-3., -3., -3., ...,  3.,  3.,  3.]],\n",
       "\n",
       "        [[-3.,  3., -3., ...,  3., -3.,  3.],\n",
       "         [-3., -3.,  3., ..., -3.,  3.,  3.],\n",
       "         [-3., -3., -3., ...,  3.,  3.,  3.],\n",
       "         [-3., -3., -3., ...,  3.,  3.,  3.]],\n",
       "\n",
       "        [[-3.,  3., -3., ...,  3., -3.,  3.],\n",
       "         [-3., -3.,  3., ..., -3.,  3.,  3.],\n",
       "         [-3., -3., -3., ...,  3.,  3.,  3.],\n",
       "         [-3., -3., -3., ...,  3.,  3.,  3.]]],\n",
       "\n",
       "\n",
       "       [[[-3.,  3., -3., ...,  3., -3.,  3.],\n",
       "         [-3., -3.,  3., ..., -3.,  3.,  3.],\n",
       "         [-3., -3., -3., ...,  3.,  3.,  3.],\n",
       "         [-3., -3., -3., ...,  3.,  3.,  3.]],\n",
       "\n",
       "        [[-3.,  3., -3., ...,  3., -3.,  3.],\n",
       "         [-3., -3.,  3., ..., -3.,  3.,  3.],\n",
       "         [-3., -3., -3., ...,  3.,  3.,  3.],\n",
       "         [-3., -3., -3., ...,  3.,  3.,  3.]],\n",
       "\n",
       "        [[-3.,  3., -3., ...,  3., -3.,  3.],\n",
       "         [-3., -3.,  3., ..., -3.,  3.,  3.],\n",
       "         [-3., -3., -3., ...,  3.,  3.,  3.],\n",
       "         [-3., -3., -3., ...,  3.,  3.,  3.]],\n",
       "\n",
       "        ...,\n",
       "\n",
       "        [[-3.,  3., -3., ...,  3., -3.,  3.],\n",
       "         [-3., -3.,  3., ..., -3.,  3.,  3.],\n",
       "         [-3., -3., -3., ...,  3.,  3.,  3.],\n",
       "         [-3., -3., -3., ...,  3.,  3.,  3.]],\n",
       "\n",
       "        [[-3.,  3., -3., ...,  3., -3.,  3.],\n",
       "         [-3., -3.,  3., ..., -3.,  3.,  3.],\n",
       "         [-3., -3., -3., ...,  3.,  3.,  3.],\n",
       "         [-3., -3., -3., ...,  3.,  3.,  3.]],\n",
       "\n",
       "        [[-3.,  3., -3., ...,  3., -3.,  3.],\n",
       "         [-3., -3.,  3., ..., -3.,  3.,  3.],\n",
       "         [-3., -3., -3., ...,  3.,  3.,  3.],\n",
       "         [-3., -3., -3., ...,  3.,  3.,  3.]]],\n",
       "\n",
       "\n",
       "       [[[-3.,  3., -3., ...,  3., -3.,  3.],\n",
       "         [-3., -3.,  3., ..., -3.,  3.,  3.],\n",
       "         [-3., -3., -3., ...,  3.,  3.,  3.],\n",
       "         [-3., -3., -3., ...,  3.,  3.,  3.]],\n",
       "\n",
       "        [[-3.,  3., -3., ...,  3., -3.,  3.],\n",
       "         [-3., -3.,  3., ..., -3.,  3.,  3.],\n",
       "         [-3., -3., -3., ...,  3.,  3.,  3.],\n",
       "         [-3., -3., -3., ...,  3.,  3.,  3.]],\n",
       "\n",
       "        [[-3.,  3., -3., ...,  3., -3.,  3.],\n",
       "         [-3., -3.,  3., ..., -3.,  3.,  3.],\n",
       "         [-3., -3., -3., ...,  3.,  3.,  3.],\n",
       "         [-3., -3., -3., ...,  3.,  3.,  3.]],\n",
       "\n",
       "        ...,\n",
       "\n",
       "        [[-3.,  3., -3., ...,  3., -3.,  3.],\n",
       "         [-3., -3.,  3., ..., -3.,  3.,  3.],\n",
       "         [-3., -3., -3., ...,  3.,  3.,  3.],\n",
       "         [-3., -3., -3., ...,  3.,  3.,  3.]],\n",
       "\n",
       "        [[-3.,  3., -3., ...,  3., -3.,  3.],\n",
       "         [-3., -3.,  3., ..., -3.,  3.,  3.],\n",
       "         [-3., -3., -3., ...,  3.,  3.,  3.],\n",
       "         [-3., -3., -3., ...,  3.,  3.,  3.]],\n",
       "\n",
       "        [[-3.,  3., -3., ...,  3., -3.,  3.],\n",
       "         [-3., -3.,  3., ..., -3.,  3.,  3.],\n",
       "         [-3., -3., -3., ...,  3.,  3.,  3.],\n",
       "         [-3., -3., -3., ...,  3.,  3.,  3.]]]],      dtype=float32, weak_type=True), Array([[[[-3.,  3., -3., ...,  3., -3.,  3.],\n",
       "         [-3., -3.,  3., ..., -3.,  3.,  3.]],\n",
       "\n",
       "        [[-3., -3., -3., ...,  3.,  3.,  3.],\n",
       "         [-3., -3., -3., ...,  3.,  3.,  3.]],\n",
       "\n",
       "        [[-3.,  3., -3., ...,  3., -3.,  3.],\n",
       "         [-3., -3.,  3., ..., -3.,  3.,  3.]],\n",
       "\n",
       "        ...,\n",
       "\n",
       "        [[-3., -3., -3., ...,  3.,  3.,  3.],\n",
       "         [-3., -3., -3., ...,  3.,  3.,  3.]],\n",
       "\n",
       "        [[-3.,  3., -3., ...,  3., -3.,  3.],\n",
       "         [-3., -3.,  3., ..., -3.,  3.,  3.]],\n",
       "\n",
       "        [[-3., -3., -3., ...,  3.,  3.,  3.],\n",
       "         [-3., -3., -3., ...,  3.,  3.,  3.]]],\n",
       "\n",
       "\n",
       "       [[[-3.,  3., -3., ...,  3., -3.,  3.],\n",
       "         [-3., -3.,  3., ..., -3.,  3.,  3.]],\n",
       "\n",
       "        [[-3., -3., -3., ...,  3.,  3.,  3.],\n",
       "         [-3., -3., -3., ...,  3.,  3.,  3.]],\n",
       "\n",
       "        [[-3.,  3., -3., ...,  3., -3.,  3.],\n",
       "         [-3., -3.,  3., ..., -3.,  3.,  3.]],\n",
       "\n",
       "        ...,\n",
       "\n",
       "        [[-3., -3., -3., ...,  3.,  3.,  3.],\n",
       "         [-3., -3., -3., ...,  3.,  3.,  3.]],\n",
       "\n",
       "        [[-3.,  3., -3., ...,  3., -3.,  3.],\n",
       "         [-3., -3.,  3., ..., -3.,  3.,  3.]],\n",
       "\n",
       "        [[-3., -3., -3., ...,  3.,  3.,  3.],\n",
       "         [-3., -3., -3., ...,  3.,  3.,  3.]]],\n",
       "\n",
       "\n",
       "       [[[-3.,  3., -3., ...,  3., -3.,  3.],\n",
       "         [-3., -3.,  3., ..., -3.,  3.,  3.]],\n",
       "\n",
       "        [[-3., -3., -3., ...,  3.,  3.,  3.],\n",
       "         [-3., -3., -3., ...,  3.,  3.,  3.]],\n",
       "\n",
       "        [[-3.,  3., -3., ...,  3., -3.,  3.],\n",
       "         [-3., -3.,  3., ..., -3.,  3.,  3.]],\n",
       "\n",
       "        ...,\n",
       "\n",
       "        [[-3., -3., -3., ...,  3.,  3.,  3.],\n",
       "         [-3., -3., -3., ...,  3.,  3.,  3.]],\n",
       "\n",
       "        [[-3.,  3., -3., ...,  3., -3.,  3.],\n",
       "         [-3., -3.,  3., ..., -3.,  3.,  3.]],\n",
       "\n",
       "        [[-3., -3., -3., ...,  3.,  3.,  3.],\n",
       "         [-3., -3., -3., ...,  3.,  3.,  3.]]],\n",
       "\n",
       "\n",
       "       ...,\n",
       "\n",
       "\n",
       "       [[[-3.,  3., -3., ...,  3., -3.,  3.],\n",
       "         [-3., -3.,  3., ..., -3.,  3.,  3.]],\n",
       "\n",
       "        [[-3., -3., -3., ...,  3.,  3.,  3.],\n",
       "         [-3., -3., -3., ...,  3.,  3.,  3.]],\n",
       "\n",
       "        [[-3.,  3., -3., ...,  3., -3.,  3.],\n",
       "         [-3., -3.,  3., ..., -3.,  3.,  3.]],\n",
       "\n",
       "        ...,\n",
       "\n",
       "        [[-3., -3., -3., ...,  3.,  3.,  3.],\n",
       "         [-3., -3., -3., ...,  3.,  3.,  3.]],\n",
       "\n",
       "        [[-3.,  3., -3., ...,  3., -3.,  3.],\n",
       "         [-3., -3.,  3., ..., -3.,  3.,  3.]],\n",
       "\n",
       "        [[-3., -3., -3., ...,  3.,  3.,  3.],\n",
       "         [-3., -3., -3., ...,  3.,  3.,  3.]]],\n",
       "\n",
       "\n",
       "       [[[-3.,  3., -3., ...,  3., -3.,  3.],\n",
       "         [-3., -3.,  3., ..., -3.,  3.,  3.]],\n",
       "\n",
       "        [[-3., -3., -3., ...,  3.,  3.,  3.],\n",
       "         [-3., -3., -3., ...,  3.,  3.,  3.]],\n",
       "\n",
       "        [[-3.,  3., -3., ...,  3., -3.,  3.],\n",
       "         [-3., -3.,  3., ..., -3.,  3.,  3.]],\n",
       "\n",
       "        ...,\n",
       "\n",
       "        [[-3., -3., -3., ...,  3.,  3.,  3.],\n",
       "         [-3., -3., -3., ...,  3.,  3.,  3.]],\n",
       "\n",
       "        [[-3.,  3., -3., ...,  3., -3.,  3.],\n",
       "         [-3., -3.,  3., ..., -3.,  3.,  3.]],\n",
       "\n",
       "        [[-3., -3., -3., ...,  3.,  3.,  3.],\n",
       "         [-3., -3., -3., ...,  3.,  3.,  3.]]],\n",
       "\n",
       "\n",
       "       [[[-3.,  3., -3., ...,  3., -3.,  3.],\n",
       "         [-3., -3.,  3., ..., -3.,  3.,  3.]],\n",
       "\n",
       "        [[-3., -3., -3., ...,  3.,  3.,  3.],\n",
       "         [-3., -3., -3., ...,  3.,  3.,  3.]],\n",
       "\n",
       "        [[-3.,  3., -3., ...,  3., -3.,  3.],\n",
       "         [-3., -3.,  3., ..., -3.,  3.,  3.]],\n",
       "\n",
       "        ...,\n",
       "\n",
       "        [[-3., -3., -3., ...,  3.,  3.,  3.],\n",
       "         [-3., -3., -3., ...,  3.,  3.,  3.]],\n",
       "\n",
       "        [[-3.,  3., -3., ...,  3., -3.,  3.],\n",
       "         [-3., -3.,  3., ..., -3.,  3.,  3.]],\n",
       "\n",
       "        [[-3., -3., -3., ...,  3.,  3.,  3.],\n",
       "         [-3., -3., -3., ...,  3.,  3.,  3.]]]],      dtype=float32, weak_type=True), Array([[[[-3.,  3., -3., ...,  3., -3.,  3.]],\n",
       "\n",
       "        [[-3., -3.,  3., ..., -3.,  3.,  3.]],\n",
       "\n",
       "        [[-3., -3., -3., ...,  3.,  3.,  3.]],\n",
       "\n",
       "        ...,\n",
       "\n",
       "        [[-3., -3.,  3., ..., -3.,  3.,  3.]],\n",
       "\n",
       "        [[-3., -3., -3., ...,  3.,  3.,  3.]],\n",
       "\n",
       "        [[-3., -3., -3., ...,  3.,  3.,  3.]]],\n",
       "\n",
       "\n",
       "       [[[-3.,  3., -3., ...,  3., -3.,  3.]],\n",
       "\n",
       "        [[-3., -3.,  3., ..., -3.,  3.,  3.]],\n",
       "\n",
       "        [[-3., -3., -3., ...,  3.,  3.,  3.]],\n",
       "\n",
       "        ...,\n",
       "\n",
       "        [[-3., -3.,  3., ..., -3.,  3.,  3.]],\n",
       "\n",
       "        [[-3., -3., -3., ...,  3.,  3.,  3.]],\n",
       "\n",
       "        [[-3., -3., -3., ...,  3.,  3.,  3.]]],\n",
       "\n",
       "\n",
       "       [[[-3.,  3., -3., ...,  3., -3.,  3.]],\n",
       "\n",
       "        [[-3., -3.,  3., ..., -3.,  3.,  3.]],\n",
       "\n",
       "        [[-3., -3., -3., ...,  3.,  3.,  3.]],\n",
       "\n",
       "        ...,\n",
       "\n",
       "        [[-3., -3.,  3., ..., -3.,  3.,  3.]],\n",
       "\n",
       "        [[-3., -3., -3., ...,  3.,  3.,  3.]],\n",
       "\n",
       "        [[-3., -3., -3., ...,  3.,  3.,  3.]]],\n",
       "\n",
       "\n",
       "       ...,\n",
       "\n",
       "\n",
       "       [[[-3.,  3., -3., ...,  3., -3.,  3.]],\n",
       "\n",
       "        [[-3., -3.,  3., ..., -3.,  3.,  3.]],\n",
       "\n",
       "        [[-3., -3., -3., ...,  3.,  3.,  3.]],\n",
       "\n",
       "        ...,\n",
       "\n",
       "        [[-3., -3.,  3., ..., -3.,  3.,  3.]],\n",
       "\n",
       "        [[-3., -3., -3., ...,  3.,  3.,  3.]],\n",
       "\n",
       "        [[-3., -3., -3., ...,  3.,  3.,  3.]]],\n",
       "\n",
       "\n",
       "       [[[-3.,  3., -3., ...,  3., -3.,  3.]],\n",
       "\n",
       "        [[-3., -3.,  3., ..., -3.,  3.,  3.]],\n",
       "\n",
       "        [[-3., -3., -3., ...,  3.,  3.,  3.]],\n",
       "\n",
       "        ...,\n",
       "\n",
       "        [[-3., -3.,  3., ..., -3.,  3.,  3.]],\n",
       "\n",
       "        [[-3., -3., -3., ...,  3.,  3.,  3.]],\n",
       "\n",
       "        [[-3., -3., -3., ...,  3.,  3.,  3.]]],\n",
       "\n",
       "\n",
       "       [[[-3.,  3., -3., ...,  3., -3.,  3.]],\n",
       "\n",
       "        [[-3., -3.,  3., ..., -3.,  3.,  3.]],\n",
       "\n",
       "        [[-3., -3., -3., ...,  3.,  3.,  3.]],\n",
       "\n",
       "        ...,\n",
       "\n",
       "        [[-3., -3.,  3., ..., -3.,  3.,  3.]],\n",
       "\n",
       "        [[-3., -3., -3., ...,  3.,  3.,  3.]],\n",
       "\n",
       "        [[-3., -3., -3., ...,  3.,  3.,  3.]]]],      dtype=float32, weak_type=True)], reset_counter=Array([1, 1, 1, ..., 1, 1, 1], dtype=int32))"
      ]
     },
     "execution_count": 38,
     "metadata": {},
     "output_type": "execute_result"
    }
   ],
   "source": [
    "init_pool.reset_fraction(\n",
    "    jax.random.PRNGKey(43), 0.1, new_pool.graphs, new_pool.wires, new_pool.logits\n",
    ")"
   ]
  },
  {
   "cell_type": "code",
   "execution_count": null,
   "metadata": {},
   "outputs": [],
   "source": []
  },
  {
   "cell_type": "code",
   "execution_count": 119,
   "metadata": {},
   "outputs": [
    {
     "data": {
      "text/plain": [
       "(Array(-2639.108, dtype=float32), Array(-2734.4316, dtype=float32))"
      ]
     },
     "execution_count": 119,
     "metadata": {},
     "output_type": "execute_result"
    }
   ],
   "source": [
    "first_graph = jax.tree.map(lambda x: x[0], new_graphs)\n",
    "first_graph.nodes[\"logits\"].shape\n",
    "\n",
    "first_logits = extract_logits_from_graph(\n",
    "    first_graph, [l.shape[1:] for l in batch_of_logits]\n",
    ")\n",
    "sum(jax.tree.map(lambda x: x.sum(), first_logits)), first_graph.nodes[\"logits\"].sum()"
   ]
  },
  {
   "cell_type": "code",
   "execution_count": null,
   "metadata": {},
   "outputs": [],
   "source": []
  },
  {
   "cell_type": "markdown",
   "metadata": {},
   "source": [
    "## Attention"
   ]
  },
  {
   "cell_type": "code",
   "execution_count": 49,
   "metadata": {},
   "outputs": [],
   "source": [
    "from boolean_nca_cc.models.self_attention import (\n",
    "    CircuitSelfAttention,\n",
    ")"
   ]
  },
  {
   "cell_type": "code",
   "execution_count": 90,
   "metadata": {},
   "outputs": [],
   "source": [
    "attn = CircuitSelfAttention(\n",
    "    hidden_dim=hidden_dim,\n",
    "    num_heads=4,\n",
    "    num_layers=3,\n",
    "    arity=arity,\n",
    "    dropout_rate=0.1,\n",
    "    rngs=nnx.Rngs(params=jax.random.PRNGKey(42)),\n",
    "    n_node=int(graph.n_node[0]),\n",
    ")\n",
    "\n",
    "opt_fn = optax.adamw(1e-3, weight_decay=1e-5)\n",
    "opt = nnx.Optimizer(attn, opt_fn)"
   ]
  },
  {
   "cell_type": "code",
   "execution_count": 53,
   "metadata": {},
   "outputs": [],
   "source": [
    "updated_graph = attn(graph)"
   ]
  },
  {
   "cell_type": "code",
   "execution_count": 54,
   "metadata": {},
   "outputs": [],
   "source": [
    "(loss, aux), grads = nnx.value_and_grad(loss_fn, has_aux=True)(attn, graph)\n",
    "opt.update(grads)\n",
    "(loss, aux), grads = nnx.value_and_grad(loss_fn, has_aux=True)(attn, graph)\n",
    "assert any(jax.tree.leaves(jax.tree.map(lambda x: x.any(), grads))), \"No grads\""
   ]
  },
  {
   "cell_type": "code",
   "execution_count": 91,
   "metadata": {},
   "outputs": [
    {
     "data": {
      "application/vnd.jupyter.widget-view+json": {
       "model_id": "75c66004eb0b478cbb38deff6a43fa3d",
       "version_major": 2,
       "version_minor": 0
      },
      "text/plain": [
       "Training GNN:   0%|          | 0/131072 [00:00<?, ?it/s]"
      ]
     },
     "metadata": {},
     "output_type": "display_data"
    }
   ],
   "source": [
    "attn_results = train_model(\n",
    "    key=0,\n",
    "    init_model=attn,\n",
    "    # CIRCUIT PARAMS\n",
    "    layer_sizes=layer_sizes,\n",
    "    x_data=x,\n",
    "    y_data=y0,\n",
    "    arity=arity,\n",
    "    # TRAINING PARAMS\n",
    "    epochs=2**17,\n",
    "    n_message_steps=1,\n",
    "    meta_batch_size=256,\n",
    "    # WIRING MODE PARAMS\n",
    "    wiring_mode=\"random\",\n",
    "    wiring_fixed_key=jax.random.PRNGKey(42),\n",
    "    # LOSS PARAMS\n",
    "    loss_type=\"l4\",\n",
    "    # OPTIMIZER PARAMS\n",
    "    learning_rate=1e-3,\n",
    "    weight_decay=1e-5,\n",
    "    # LEARNING RATE SCHEDULER\n",
    "    lr_scheduler=\"linear_warmup\",\n",
    "    # Model Params\n",
    "    hidden_dim=hidden_dim,\n",
    "    # POOL PARAMS : current mean avg of 100 steps before reset\n",
    "    use_pool=True,\n",
    "    pool_size=1024,\n",
    "    reset_pool_fraction=0.075,\n",
    "    reset_pool_interval=2**5,\n",
    "    reset_strategy=\"combined\",\n",
    ")"
   ]
  },
  {
   "cell_type": "code",
   "execution_count": 81,
   "metadata": {},
   "outputs": [],
   "source": [
    "# save gnn_results\n",
    "import pickle\n",
    "\n",
    "with open(\"attn_results.pkl\", \"wb\") as f:\n",
    "    pickle.dump(gnn_results, f)"
   ]
  },
  {
   "cell_type": "code",
   "execution_count": 92,
   "metadata": {},
   "outputs": [
    {
     "data": {
      "image/png": "[encoded data removed]",
      "text/plain": [
       "<Figure size 1000x500 with 2 Axes>"
      ]
     },
     "metadata": {},
     "output_type": "display_data"
    }
   ],
   "source": [
    "fig, axs = plt.subplots(\n",
    "    1, 2, figsize=(10, 5), sharey=False, sharex=True, constrained_layout=True\n",
    ")\n",
    "plot_losses(\n",
    "    gnn_results[\"losses\"], aux_log, (fig, axs[0]), title=\"META LOSS\", plot_hard=True\n",
    ")\n",
    "plot_losses(\n",
    "    gnn_results[\"losses\"],\n",
    "    aux_log,\n",
    "    (fig, axs[1]),\n",
    "    plot_accuracy=True,\n",
    "    title=\"META ACCURACY\",\n",
    "    plot_hard=True,\n",
    ")"
   ]
  },
  {
   "cell_type": "code",
   "execution_count": 93,
   "metadata": {},
   "outputs": [],
   "source": [
    "# Get the inner loop losses\n",
    "from boolean_nca_cc.training.evaluation import evaluate_model_stepwise"
   ]
  },
  {
   "cell_type": "code",
   "execution_count": 94,
   "metadata": {},
   "outputs": [
    {
     "data": {
      "application/vnd.jupyter.widget-view+json": {
       "model_id": "7bf70c96eabf4ca4acb0b483f21f6ce6",
       "version_major": 2,
       "version_minor": 0
      },
      "text/plain": [
       "Evaluating GNN steps:   0%|          | 0/100 [00:00<?, ?it/s]"
      ]
     },
     "metadata": {},
     "output_type": "display_data"
    }
   ],
   "source": [
    "key = jax.random.PRNGKey(42)\n",
    "wires_gnn, logits_gnn = gen_circuit(key, layer_sizes, arity=arity)\n",
    "step_metrics_attn = evaluate_model_stepwise(\n",
    "    attn,\n",
    "    wires_gnn,\n",
    "    logits_gnn,\n",
    "    x,\n",
    "    y0,\n",
    "    input_n,\n",
    "    n_message_steps=100,\n",
    "    arity=arity,\n",
    "    hidden_dim=hidden_dim,\n",
    "    loss_type=\"l4\",\n",
    ")"
   ]
  },
  {
   "cell_type": "code",
   "execution_count": 95,
   "metadata": {},
   "outputs": [],
   "source": [
    "aux_log_stepwise_attn = [\n",
    "    {\"accuracy\": acc, \"hard_accuracy\": hard_acc, \"hard_loss\": hard_loss}\n",
    "    for acc, hard_acc, hard_loss in zip(\n",
    "        step_metrics_attn[\"soft_accuracy\"],\n",
    "        step_metrics_attn[\"hard_accuracy\"],\n",
    "        step_metrics_attn[\"hard_loss\"],\n",
    "    )\n",
    "]"
   ]
  },
  {
   "cell_type": "code",
   "execution_count": 96,
   "metadata": {},
   "outputs": [
    {
     "data": {
      "text/plain": [
       "dict_keys(['step', 'soft_loss', 'hard_loss', 'soft_accuracy', 'hard_accuracy', 'logits_mean'])"
      ]
     },
     "execution_count": 96,
     "metadata": {},
     "output_type": "execute_result"
    }
   ],
   "source": [
    "step_metrics_attn.keys()"
   ]
  },
  {
   "cell_type": "code",
   "execution_count": 97,
   "metadata": {},
   "outputs": [],
   "source": [
    "attn_log_results = {\n",
    "    \"losses\": step_metrics_attn[\"soft_loss\"],\n",
    "    \"aux_log\": aux_log_stepwise_attn,\n",
    "}"
   ]
  },
  {
   "cell_type": "code",
   "execution_count": 98,
   "metadata": {},
   "outputs": [
    {
     "data": {
      "image/png": "[encoded data removed]",
      "text/plain": [
       "<Figure size 1600x1000 with 4 Axes>"
      ]
     },
     "metadata": {},
     "output_type": "display_data"
    }
   ],
   "source": [
    "# Compare GNN and BP\n",
    "\n",
    "fig, axs = plt.subplots(\n",
    "    2, 2, figsize=(16, 10), sharey=\"row\", sharex=\"col\", constrained_layout=True\n",
    ")\n",
    "\n",
    "for method, axs_method, results in zip(\n",
    "    [\"ATTN\", \"BP\"], axs.T, [attn_log_results, bp_results]\n",
    "):\n",
    "    for metric, ax in zip([\"loss\", \"accuracy\"], axs_method):\n",
    "        if metric == \"loss\":\n",
    "            plot_losses(\n",
    "                results[\"losses\"],\n",
    "                results[\"aux_log\"],\n",
    "                (fig, ax),\n",
    "                title=f\"{method} INNER LOSS\",\n",
    "            )\n",
    "        else:\n",
    "            plot_losses(\n",
    "                results[\"losses\"],\n",
    "                results[\"aux_log\"],\n",
    "                (fig, ax),\n",
    "                title=f\"{method} INNER ACCURACY\",\n",
    "                plot_accuracy=True,\n",
    "            )"
   ]
  },
  {
   "cell_type": "code",
   "execution_count": null,
   "metadata": {},
   "outputs": [],
   "source": []
  }
 ],
 "metadata": {
  "colab": {
   "provenance": [
    {
     "file_id": "1yvBwoxMDPn9IZYRSK2sY2Ke-2oABePRO",
     "timestamp": 1746129217552
    }
   ]
  },
  "kernelspec": {
   "display_name": "cc_nca",
   "language": "python",
   "name": "python3"
  },
  "language_info": {
   "codemirror_mode": {
    "name": "ipython",
    "version": 3
   },
   "file_extension": ".py",
   "mimetype": "text/x-python",
   "name": "python",
   "nbconvert_exporter": "python",
   "pygments_lexer": "ipython3",
   "version": "3.13.2"
  }
 },
 "nbformat": 4,
 "nbformat_minor": 0
}
